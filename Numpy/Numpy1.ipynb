{
 "cells": [
  {
   "cell_type": "code",
   "execution_count": 1,
   "metadata": {},
   "outputs": [],
   "source": [
    "import numpy as np"
   ]
  },
  {
   "cell_type": "code",
   "execution_count": 6,
   "metadata": {},
   "outputs": [
    {
     "data": {
      "text/plain": [
       "array([29, 13, 40, 45, 25])"
      ]
     },
     "execution_count": 6,
     "metadata": {},
     "output_type": "execute_result"
    }
   ],
   "source": [
    "# EJERCICIO 1: Cread tres arrays: de una, dos y tres dimensiones.\n",
    "\n",
    "# Array de 1 dimensión\n",
    "array0 = np.random.randint(0, 100, (5))\n",
    "array0"
   ]
  },
  {
   "cell_type": "code",
   "execution_count": 2,
   "metadata": {},
   "outputs": [
    {
     "data": {
      "text/plain": [
       "array([[86, 77, 84],\n",
       "       [68, 31, 97]])"
      ]
     },
     "execution_count": 2,
     "metadata": {},
     "output_type": "execute_result"
    }
   ],
   "source": [
    "# Array de 2 dimensiones de 2 filas y 3 columnas.\n",
    "\n",
    "array1 = np.random.randint(0,100, (2,3))\n",
    "array1"
   ]
  },
  {
   "cell_type": "code",
   "execution_count": 3,
   "metadata": {},
   "outputs": [
    {
     "data": {
      "text/plain": [
       "array([[[86, 39,  7, 56, 20],\n",
       "        [40, 23, 25, 29, 22],\n",
       "        [49, 49, 27, 39, 77]],\n",
       "\n",
       "       [[46, 47, 64, 88,  4],\n",
       "        [69, 30, 36, 87, 40],\n",
       "        [77, 52, 58, 52, 49]]])"
      ]
     },
     "execution_count": 3,
     "metadata": {},
     "output_type": "execute_result"
    }
   ],
   "source": [
    "# Array de 3 dimensiones de 2 matrices, 3 filas y 5 columnas.\n",
    "\n",
    "array2 = np.random.randint(0,100, (2, 3, 5))\n",
    "array2"
   ]
  },
  {
   "cell_type": "code",
   "execution_count": 4,
   "metadata": {},
   "outputs": [],
   "source": [
    "# EJERCICIO 2: Chequead las las propiedades básicas de cada array que os hayáis creado. Usad en una función que nos devuelva las propiedades de una array que le pasemos.\n",
    "\n",
    "# Función para mostrar propiedades\n",
    "\n",
    "def mostrar_propiedades(array):\n",
    "\n",
    "    print(\"las caractéristicas de esta matriz son:\",\"\\n\")\n",
    "    print(\"dimensiones \", array.ndim)\n",
    "    print(\"forma \", array.shape)\n",
    "    print(\"tamaño \", array.size)\n",
    "    print(\"tipo de dato \", array.dtype)\n",
    "\n",
    "    return\n",
    "\n"
   ]
  },
  {
   "cell_type": "code",
   "execution_count": 5,
   "metadata": {},
   "outputs": [
    {
     "name": "stdout",
     "output_type": "stream",
     "text": [
      "las caractéristicas de esta matriz son: \n",
      "\n",
      "dimensiones  2\n",
      "forma  (2, 3)\n",
      "tamaño  6\n",
      "tipo de dato  int32\n"
     ]
    }
   ],
   "source": [
    "# Propiedades Array0\n",
    "mostrar_propiedades(array0)"
   ]
  },
  {
   "cell_type": "code",
   "execution_count": 6,
   "metadata": {},
   "outputs": [
    {
     "name": "stdout",
     "output_type": "stream",
     "text": [
      "las caractéristicas de esta matriz son: \n",
      "\n",
      "dimensiones  2\n",
      "forma  (2, 3)\n",
      "tamaño  6\n",
      "tipo de dato  int32\n"
     ]
    }
   ],
   "source": [
    "# Propiedades Array1\n",
    "mostrar_propiedades(array1)"
   ]
  },
  {
   "cell_type": "code",
   "execution_count": 7,
   "metadata": {},
   "outputs": [
    {
     "name": "stdout",
     "output_type": "stream",
     "text": [
      "las caractéristicas de esta matriz son: \n",
      "\n",
      "dimensiones  3\n",
      "forma  (2, 3, 5)\n",
      "tamaño  30\n",
      "tipo de dato  int32\n"
     ]
    }
   ],
   "source": [
    "# Propiedades Array2\n",
    "mostrar_propiedades(array2)"
   ]
  },
  {
   "cell_type": "code",
   "execution_count": 16,
   "metadata": {},
   "outputs": [
    {
     "data": {
      "text/plain": [
       "array([[1., 0., 0.],\n",
       "       [0., 1., 0.],\n",
       "       [0., 0., 1.]])"
      ]
     },
     "execution_count": 16,
     "metadata": {},
     "output_type": "execute_result"
    }
   ],
   "source": [
    "# EJERCICIO 3: Cread una matriz identidad de dos dimensiones de 3 filas y 3 columnas. \n",
    "\n",
    "matriz_identidad = np.identity(3)\n",
    "matriz_identidad\n",
    "\n"
   ]
  },
  {
   "cell_type": "code",
   "execution_count": 17,
   "metadata": {},
   "outputs": [
    {
     "data": {
      "text/plain": [
       "array([[[1, 1, 1, 1, 1],\n",
       "        [1, 1, 1, 1, 1],\n",
       "        [1, 1, 1, 1, 1]],\n",
       "\n",
       "       [[1, 1, 1, 1, 1],\n",
       "        [1, 1, 1, 1, 1],\n",
       "        [1, 1, 1, 1, 1]]])"
      ]
     },
     "execution_count": 17,
     "metadata": {},
     "output_type": "execute_result"
    }
   ],
   "source": [
    "# EJERCICIO 4: Cread una matriz de tres dimensiones de unos igual a la martiz de tres dimensiones creada en el primer ejercicio.\n",
    "\n",
    "matriz_unos = np.ones_like(array2)\n",
    "matriz_unos"
   ]
  },
  {
   "cell_type": "code",
   "execution_count": null,
   "metadata": {},
   "outputs": [],
   "source": [
    "# EJERCICIO 5: Es el momento de hacer algunas operaciones entre arrays. \n",
    "\n",
    "# ¿Se puede sumar el array de dos dimensiones que creamos en el primer ejecicio a la matriz identidad? ¿Por qué?\n",
    "\n",
    "# No se puede sumar porque no tiene las misma forma.\n"
   ]
  },
  {
   "cell_type": "code",
   "execution_count": 21,
   "metadata": {},
   "outputs": [],
   "source": [
    "# En caso de que no se puedan sumar, busca una solución para sumar una matriz identidad a otra. La solución puede ser crear un array nuevo.\n",
    "\n",
    "array_nuevo = np.random.randint(0,100, (3,3))\n"
   ]
  },
  {
   "cell_type": "code",
   "execution_count": 22,
   "metadata": {},
   "outputs": [
    {
     "data": {
      "text/plain": [
       "array([[1., 0., 0.],\n",
       "       [0., 1., 0.],\n",
       "       [0., 0., 1.]])"
      ]
     },
     "execution_count": 22,
     "metadata": {},
     "output_type": "execute_result"
    }
   ],
   "source": [
    "matriz_identidad"
   ]
  },
  {
   "cell_type": "code",
   "execution_count": 23,
   "metadata": {},
   "outputs": [
    {
     "data": {
      "text/plain": [
       "array([[12, 52, 48],\n",
       "       [67, 97, 79],\n",
       "       [26, 76, 24]])"
      ]
     },
     "execution_count": 23,
     "metadata": {},
     "output_type": "execute_result"
    }
   ],
   "source": [
    "array_nuevo"
   ]
  },
  {
   "cell_type": "code",
   "execution_count": 24,
   "metadata": {},
   "outputs": [
    {
     "data": {
      "text/plain": [
       "array([[13., 52., 48.],\n",
       "       [67., 98., 79.],\n",
       "       [26., 76., 25.]])"
      ]
     },
     "execution_count": 24,
     "metadata": {},
     "output_type": "execute_result"
    }
   ],
   "source": [
    "matriz_identidad + array_nuevo"
   ]
  },
  {
   "cell_type": "code",
   "execution_count": 25,
   "metadata": {},
   "outputs": [
    {
     "data": {
      "text/plain": [
       "array([[12.,  0.,  0.],\n",
       "       [ 0., 97.,  0.],\n",
       "       [ 0.,  0., 24.]])"
      ]
     },
     "execution_count": 25,
     "metadata": {},
     "output_type": "execute_result"
    }
   ],
   "source": [
    "# Multiplicad la matriz identidad por la nueva matriz que os creasteis en el ejercicio anterior.\n",
    "\n",
    "matriz_identidad * array_nuevo"
   ]
  },
  {
   "cell_type": "code",
   "execution_count": 26,
   "metadata": {},
   "outputs": [
    {
     "data": {
      "text/plain": [
       "array([[0.08333333, 0.        , 0.        ],\n",
       "       [0.        , 0.01030928, 0.        ],\n",
       "       [0.        , 0.        , 0.04166667]])"
      ]
     },
     "execution_count": 26,
     "metadata": {},
     "output_type": "execute_result"
    }
   ],
   "source": [
    "# Dividid las dos matricess\n",
    "\n",
    "matriz_identidad / array_nuevo"
   ]
  }
 ],
 "metadata": {
  "kernelspec": {
   "display_name": "Python 3.10.5 64-bit",
   "language": "python",
   "name": "python3"
  },
  "language_info": {
   "codemirror_mode": {
    "name": "ipython",
    "version": 3
   },
   "file_extension": ".py",
   "mimetype": "text/x-python",
   "name": "python",
   "nbconvert_exporter": "python",
   "pygments_lexer": "ipython3",
   "version": "3.10.5"
  },
  "orig_nbformat": 4,
  "vscode": {
   "interpreter": {
    "hash": "6c417e8ec6dca726918e9382ccd5f9a276f75c00fe45ac2c66804bdd5db60888"
   }
  }
 },
 "nbformat": 4,
 "nbformat_minor": 2
}
