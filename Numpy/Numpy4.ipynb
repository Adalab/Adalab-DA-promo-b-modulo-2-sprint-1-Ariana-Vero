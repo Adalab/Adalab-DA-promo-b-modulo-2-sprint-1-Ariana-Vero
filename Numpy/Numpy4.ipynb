{
 "cells": [
  {
   "cell_type": "code",
   "execution_count": 2,
   "metadata": {},
   "outputs": [],
   "source": [
    "import numpy as np"
   ]
  },
  {
   "cell_type": "code",
   "execution_count": 3,
   "metadata": {},
   "outputs": [],
   "source": [
    "#1.¿Cómo podemos crear dos arrays de dos dimensiones usando el método random_sample que tengan los mismos valores?\n",
    "\n",
    "np.random.seed(42)\n"
   ]
  },
  {
   "cell_type": "code",
   "execution_count": 5,
   "metadata": {},
   "outputs": [
    {
     "data": {
      "text/plain": [
       "array([[0.83244264, 0.21233911, 0.18182497, 0.18340451],\n",
       "       [0.30424224, 0.52475643, 0.43194502, 0.29122914],\n",
       "       [0.61185289, 0.13949386, 0.29214465, 0.36636184]])"
      ]
     },
     "execution_count": 5,
     "metadata": {},
     "output_type": "execute_result"
    }
   ],
   "source": [
    "arr1, arr2 =np.random.random_sample((3,4)),np.random.random_sample((3,4))\n",
    "arr1"
   ]
  },
  {
   "cell_type": "code",
   "execution_count": 8,
   "metadata": {},
   "outputs": [
    {
     "data": {
      "text/plain": [
       "array([[0.45606998, 0.78517596, 0.19967378, 0.51423444],\n",
       "       [0.59241457, 0.04645041, 0.60754485, 0.17052412],\n",
       "       [0.06505159, 0.94888554, 0.96563203, 0.80839735]])"
      ]
     },
     "execution_count": 8,
     "metadata": {},
     "output_type": "execute_result"
    }
   ],
   "source": [
    "arr2"
   ]
  },
  {
   "cell_type": "code",
   "execution_count": 9,
   "metadata": {},
   "outputs": [
    {
     "data": {
      "text/plain": [
       "array([ 0.,  1.,  2.,  3.,  4.,  5.,  6.,  7.,  8.,  9., 10.])"
      ]
     },
     "execution_count": 9,
     "metadata": {},
     "output_type": "execute_result"
    }
   ],
   "source": [
    "#2.Cread los siguientes arrays:\n",
    "    #Un array de tres dimensiones con distribución uniforme de 2 x 3 x 5, con números entre 0 y 10, que no tengan decimales y extrae sus valores únicos almacenándolos en una variable.\n",
    "    \n",
    "arr3=np.round(np.random.uniform(0,10,(2,3,5)))\n",
    "arr3_valores=np.unique(arr3)\n",
    "arr3_valores\n"
   ]
  },
  {
   "cell_type": "code",
   "execution_count": 10,
   "metadata": {},
   "outputs": [
    {
     "data": {
      "text/plain": [
       "array([[[1, 4, 1, 6, 4],\n",
       "        [2, 0, 4, 4, 4],\n",
       "        [4, 1, 2, 1, 5]],\n",
       "\n",
       "       [[3, 2, 1, 2, 2],\n",
       "        [4, 3, 5, 3, 1],\n",
       "        [4, 4, 3, 4, 3]]])"
      ]
     },
     "execution_count": 10,
     "metadata": {},
     "output_type": "execute_result"
    }
   ],
   "source": [
    "    # Un array de tres dimensiones con distribución binomial de 2 x 3 x 5, con probabilidad de 0.3 y número de pruebas igual a 10. Igual que antes guarda los datos en una variable.\n",
    "\n",
    "arr4=np.round(np.random.binomial(10,0.3,(2,3,5)))\n",
    "arr4"
   ]
  },
  {
   "cell_type": "code",
   "execution_count": 11,
   "metadata": {},
   "outputs": [
    {
     "data": {
      "text/plain": [
       "array([0, 1, 2, 3, 4, 5, 6])"
      ]
     },
     "execution_count": 11,
     "metadata": {},
     "output_type": "execute_result"
    }
   ],
   "source": [
    "arr4_valores=np.unique(arr4)\n",
    "arr4_valores"
   ]
  },
  {
   "cell_type": "code",
   "execution_count": 12,
   "metadata": {},
   "outputs": [
    {
     "data": {
      "text/plain": [
       "array([0., 1., 2., 3., 4., 5., 6.])"
      ]
     },
     "execution_count": 12,
     "metadata": {},
     "output_type": "execute_result"
    }
   ],
   "source": [
    "#3.En esta lección hemos aprendido algunos métodos de teórias de conjuntos. Usando los arrays de elementos únicos obtenidos en el ejercicio anterior realizad las siguientes operaciones:\n",
    "    #Elementos comunes entre los dos arrays\n",
    "\n",
    "np.intersect1d(arr3_valores,arr4_valores)\n",
    "   \n",
    "# El output de esta celda nos muestra los elementos (como valores únicos) que aparecen tanto en un array como en el otro."
   ]
  },
  {
   "cell_type": "code",
   "execution_count": 13,
   "metadata": {},
   "outputs": [
    {
     "data": {
      "text/plain": [
       "array([ 7.,  8.,  9., 10.])"
      ]
     },
     "execution_count": 13,
     "metadata": {},
     "output_type": "execute_result"
    }
   ],
   "source": [
    " # Unión de los dos arrays\n",
    "    # ¿Qué elementos están en el array derivado de la distribución uniforme y no en los únicos de la distribución binomial? Extrae los valores númericos\n",
    "\n",
    "np.setdiff1d(arr3, arr4_valores)\n",
    "\n",
    "#⚠️ Explicar cada uno de los outputs que os salgan. Que significa cada una de estas operaciones que hemos ido extrayendo?\n",
    "\n",
    "# El output de esta celda nos muestra aquellos valores que podemos encontrar en el arr3 pero no podemos encontrar en el arr4_valores, es decir, la diferencia entre ambos."
   ]
  },
  {
   "cell_type": "code",
   "execution_count": 14,
   "metadata": {},
   "outputs": [],
   "source": [
    "#4.Cread dos arrays usando el método random.randint de Numpy con 80 elementos cada uno con números del 1-100, con los siguientes nombres array1 y array2.\n",
    "\n",
    "array1=np.random.randint(1,100,(80))\n",
    "array2=np.random.randint(1,100,(80))"
   ]
  },
  {
   "cell_type": "code",
   "execution_count": 15,
   "metadata": {},
   "outputs": [
    {
     "data": {
      "text/plain": [
       "array([ 9, 79, 15, 90, 42, 77, 51, 63, 96, 52, 96,  4, 94, 23, 15, 43, 29,\n",
       "       36, 13, 32, 71, 59, 86, 28, 66, 42, 45, 62, 57,  6, 28, 28, 44, 84,\n",
       "       30, 62, 75, 92, 89, 62, 97,  1, 27, 62, 77,  3, 70, 72, 27,  9, 62,\n",
       "       37, 97, 51, 44, 24, 79, 59, 32, 96, 88, 52, 62, 58, 52, 12, 39,  2,\n",
       "        3, 56, 81, 59,  2,  2, 92, 54, 87, 96, 97,  1])"
      ]
     },
     "execution_count": 15,
     "metadata": {},
     "output_type": "execute_result"
    }
   ],
   "source": [
    "array1"
   ]
  },
  {
   "cell_type": "code",
   "execution_count": 16,
   "metadata": {},
   "outputs": [
    {
     "data": {
      "text/plain": [
       "array([19,  2, 53, 44, 90, 32, 70, 32, 68, 55, 75, 56, 17, 38, 24, 69, 98,\n",
       "       70, 86, 11, 16, 97, 73, 59, 70, 80, 93,  3, 20, 59, 36, 19, 90, 67,\n",
       "       19, 20, 96, 71, 52, 33, 40, 39, 82,  1, 11, 92, 57, 89, 50, 23, 31,\n",
       "       94, 42, 99,  7, 16, 90, 60,  2,  1, 48, 12, 69, 37, 32,  9, 99, 19,\n",
       "       48, 80,  3, 20, 24, 54, 33, 24, 75, 72, 36, 38])"
      ]
     },
     "execution_count": 16,
     "metadata": {},
     "output_type": "execute_result"
    }
   ],
   "source": [
    "array2"
   ]
  },
  {
   "cell_type": "code",
   "execution_count": 17,
   "metadata": {},
   "outputs": [
    {
     "data": {
      "text/plain": [
       "array([ 1,  2,  3,  4,  6,  9, 12, 13, 15, 23, 24, 27, 28, 29, 30, 32, 36,\n",
       "       37, 39, 42, 43, 44, 45, 51, 52, 54, 56, 57, 58, 59, 62, 63, 66, 70,\n",
       "       71, 72, 75, 77, 79, 81, 84, 86, 87, 88, 89, 90, 92, 94, 96, 97])"
      ]
     },
     "execution_count": 17,
     "metadata": {},
     "output_type": "execute_result"
    }
   ],
   "source": [
    "    # Extraed los valores únicos de cada uno de los arrays y los guardáis en variables en las que se les llame array1 y array2.\n",
    "\n",
    "array1=np.unique(array1)\n",
    "array1\n"
   ]
  },
  {
   "cell_type": "code",
   "execution_count": 18,
   "metadata": {},
   "outputs": [
    {
     "data": {
      "text/plain": [
       "array([ 1,  2,  3,  7,  9, 11, 12, 16, 17, 19, 20, 23, 24, 31, 32, 33, 36,\n",
       "       37, 38, 39, 40, 42, 44, 48, 50, 52, 53, 54, 55, 56, 57, 59, 60, 67,\n",
       "       68, 69, 70, 71, 72, 73, 75, 80, 82, 86, 89, 90, 92, 93, 94, 96, 97,\n",
       "       98, 99])"
      ]
     },
     "execution_count": 18,
     "metadata": {},
     "output_type": "execute_result"
    }
   ],
   "source": [
    "array2=np.unique(array2)\n",
    "array2"
   ]
  },
  {
   "cell_type": "code",
   "execution_count": 19,
   "metadata": {},
   "outputs": [
    {
     "data": {
      "text/plain": [
       "array([ 4,  6, 13, 15, 27, 28, 29, 30, 43, 45, 51, 58, 62, 63, 66, 77, 79,\n",
       "       81, 84, 87, 88])"
      ]
     },
     "execution_count": 19,
     "metadata": {},
     "output_type": "execute_result"
    }
   ],
   "source": [
    "    # Identificad los elementos presentes en el array1 pero no en el array2 y asiganarlo a una variable que se llame array3.\n",
    "\n",
    "array3=np.setdiff1d(array1,array2)\n",
    "array3"
   ]
  },
  {
   "cell_type": "code",
   "execution_count": 20,
   "metadata": {},
   "outputs": [
    {
     "data": {
      "text/plain": [
       "array([ 7, 11, 16, 17, 19, 20, 31, 33, 38, 40, 48, 50, 53, 55, 60, 67, 68,\n",
       "       69, 73, 80, 82, 93, 98, 99])"
      ]
     },
     "execution_count": 20,
     "metadata": {},
     "output_type": "execute_result"
    }
   ],
   "source": [
    "    # Identificad los elementos presentes en el array2 pero no en el array1 y asiganarlo a una variable que se llame array4.\n",
    "\n",
    "array4=np.setdiff1d(array2,array1)\n",
    "array4"
   ]
  },
  {
   "cell_type": "code",
   "execution_count": 21,
   "metadata": {},
   "outputs": [
    {
     "data": {
      "text/plain": [
       "array([ 4,  6,  7, 11, 13, 15, 16, 17, 19, 20, 27, 28, 29, 30, 31, 33, 38,\n",
       "       40, 43, 45, 48, 50, 51, 53, 55, 58, 60, 62, 63, 66, 67, 68, 69, 73,\n",
       "       77, 79, 80, 81, 82, 84, 87, 88, 93, 98, 99])"
      ]
     },
     "execution_count": 21,
     "metadata": {},
     "output_type": "execute_result"
    }
   ],
   "source": [
    "    # Identificad los elementos presentes en ambos arrays y asiganarlos a una variable que se llame array5.\n",
    "\n",
    "array5=np.setxor1d(array1,array2)\n",
    "array5"
   ]
  },
  {
   "cell_type": "code",
   "execution_count": 22,
   "metadata": {},
   "outputs": [
    {
     "name": "stdout",
     "output_type": "stream",
     "text": [
      "50\n",
      "53\n",
      "21\n",
      "24\n",
      "45\n"
     ]
    }
   ],
   "source": [
    "    # ¿Cuál es la relación que existe entre todos estos arrays? 💡 Pista 💡 Tendréis que usar las longitudes de cada uno de los arrays creados.\n",
    "len_array1=len(array1)\n",
    "print(len_array1)\n",
    "len_array2=len(array2)\n",
    "print((len_array2))\n",
    "len_array3=len(array3)\n",
    "print((len_array3))\n",
    "len_array4=len(array4)\n",
    "print((len_array4))\n",
    "len_array5=len(array5)\n",
    "print((len_array5))"
   ]
  }
 ],
 "metadata": {
  "kernelspec": {
   "display_name": "Python 3.9.7 ('base')",
   "language": "python",
   "name": "python3"
  },
  "language_info": {
   "codemirror_mode": {
    "name": "ipython",
    "version": 3
   },
   "file_extension": ".py",
   "mimetype": "text/x-python",
   "name": "python",
   "nbconvert_exporter": "python",
   "pygments_lexer": "ipython3",
   "version": "3.9.7"
  },
  "orig_nbformat": 4,
  "vscode": {
   "interpreter": {
    "hash": "7ad202eda4b463b15866ae6aadf94c3d2752d74520fedda13d68ef6e8aba5314"
   }
  }
 },
 "nbformat": 4,
 "nbformat_minor": 2
}
