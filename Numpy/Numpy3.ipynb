{
 "cells": [
  {
   "cell_type": "code",
   "execution_count": 1,
   "metadata": {},
   "outputs": [],
   "source": [
    "import numpy as np"
   ]
  },
  {
   "cell_type": "code",
   "execution_count": 21,
   "metadata": {},
   "outputs": [
    {
     "data": {
      "text/plain": [
       "array([[[0.4, 0.6, 0.1, 0.4, 0.6],\n",
       "        [0.2, 0.9, 0.3, 0.7, 0.5],\n",
       "        [0.3, 0.4, 0.9, 0.3, 0.2]],\n",
       "\n",
       "       [[0.4, 0.6, 0.4, 0.9, 0. ],\n",
       "        [0.3, 0.7, 0.6, 0.4, 0.6],\n",
       "        [0.4, 0.5, 0.9, 0.4, 0.1]]])"
      ]
     },
     "execution_count": 21,
     "metadata": {},
     "output_type": "execute_result"
    }
   ],
   "source": [
    "#Cread un array de tres dimensiones de 2 matrices, 3 filas y 5 columnas cuyos valores solo tengan 1 decimales.\n",
    "\n",
    "arr=np.random.random_sample((2,3,5))\n",
    "arr=np.round(arr, decimals=1)\n",
    "arr"
   ]
  },
  {
   "cell_type": "code",
   "execution_count": 22,
   "metadata": {},
   "outputs": [
    {
     "data": {
      "text/plain": [
       "0.5"
      ]
     },
     "execution_count": 22,
     "metadata": {},
     "output_type": "execute_result"
    }
   ],
   "source": [
    "# Sobre el array creado anteriormente, extraed:\n",
    "#Calculad la media del array y almacenarlos en una variable. Redondead a un decimal.\n",
    "\n",
    "media_arr=np.mean(arr)\n",
    "media_arr=np.round(media_arr,decimals = 1)\n",
    "media_arr"
   ]
  },
  {
   "cell_type": "code",
   "execution_count": 23,
   "metadata": {},
   "outputs": [
    {
     "data": {
      "text/plain": [
       "1.0"
      ]
     },
     "execution_count": 23,
     "metadata": {},
     "output_type": "execute_result"
    }
   ],
   "source": [
    "#Calculad el valor máximo del array y almacenarlos en una variable. Redondead a un decimal.\n",
    "\n",
    "max_arr=np.max(arr)\n",
    "max_arr=np.round(max_arr)\n",
    "max_arr"
   ]
  },
  {
   "cell_type": "code",
   "execution_count": 24,
   "metadata": {},
   "outputs": [
    {
     "data": {
      "text/plain": [
       "0.0"
      ]
     },
     "execution_count": 24,
     "metadata": {},
     "output_type": "execute_result"
    }
   ],
   "source": [
    "#Calculad el valor mínimo del array y almacenarlos en una variable. Redondead a un decimal.\n",
    "\n",
    "min_arr=np.min(arr)\n",
    "min_arr=np.round(min_arr)\n",
    "min_arr"
   ]
  },
  {
   "cell_type": "code",
   "execution_count": 25,
   "metadata": {},
   "outputs": [
    {
     "data": {
      "text/plain": [
       "array([[['', '', '', '', ''],\n",
       "        ['', '', '', '', ''],\n",
       "        ['', '', '', '', '']],\n",
       "\n",
       "       [['', '', '', '', ''],\n",
       "        ['', '', '', '', ''],\n",
       "        ['', '', '', '', '']]], dtype='<U1')"
      ]
     },
     "execution_count": 25,
     "metadata": {},
     "output_type": "execute_result"
    }
   ],
   "source": [
    "#Cread un array vacío con la misma forma y dimensiones que el array creado anteriormente.\n",
    "\n",
    "arr_vacio=np.empty_like(arr,str)  #Necesitamos añadir tipo de dato str porque si no, no nos lo reemplaza\n",
    "arr_vacio"
   ]
  },
  {
   "cell_type": "code",
   "execution_count": 24,
   "metadata": {},
   "outputs": [],
   "source": [
    "#Vamos a reemplazar los valores de la matriz vacía que nos acabamos de crear pero basándonos en los valores del primer array bajo las siguientes condiciones:\n",
    "#Si el valor del array es igual que la media, se reemplaza por \"A\".\n",
    "#Si el valor del array es mayor que la media, se reemplaza por \"B\".\n",
    "#Si el valor del array es menor que la media, se reemplaza por \"C\".\n",
    "#Si el valor es igual que el máximo, se reemplaza por \"D\".\n",
    "#Si el valor es igual que el mínimo, se reemplaza por \"E\".\n",
    "\n",
    "# a modo de ejemplo. Si tenemos el siguiente array\n",
    "#[[[0.4, 0.7, 0.2, 0.9, 0.2],\n",
    "    #[0.1, 0.9, 0.6, 0.1, 0.2],\n",
    "    #[1. , 0.2, 0.1, 0.8, 0.3]],\n",
    "\n",
    "    #[[0. , 0.3, 0.4, 0.5, 0.1],\n",
    "    #[0.5, 0.7, 0.9, 0. , 0.8],\n",
    "    #[0.5, 0.3, 0.5, 0.8, 0.1]]])\n",
    "\n",
    "# sabiendo que la media es 0.4 y el máximo es 1.0 y el mínimo es 0.0\n",
    "# nuestro array vacío debería quedar como este: \n",
    "#[[[\"A\", \"B\", \"C\", \"B\", \"C\"],\n",
    "    #[\"C\", \"B\", \"B\", \"C\", \"C\"],\n",
    "    #[\"D\" , \"C\", \"C\", \"B\", \"C\"]],\n",
    "\n",
    "   #[[\"E\" , \"C\", \"A\", \"B\", \"C\"],\n",
    "    #[\"B\", \"B\",\"B\", \"E\" , \"B\"],\n",
    "    #[\"B\", \"C\", \"B\", \"B\", \"C\"]]])\n",
    "\n",
    "#💡 Pista 💡 Tendréis que iterar por el array y cambiar los valores de la matriz vacía. Para eso tendremos que usar distintos condicionales.\n"
   ]
  },
  {
   "cell_type": "code",
   "execution_count": 7,
   "metadata": {},
   "outputs": [
    {
     "data": {
      "text/plain": [
       "(2, 3, 5)"
      ]
     },
     "execution_count": 7,
     "metadata": {},
     "output_type": "execute_result"
    }
   ],
   "source": [
    "arr.shape"
   ]
  },
  {
   "cell_type": "code",
   "execution_count": null,
   "metadata": {},
   "outputs": [],
   "source": [
    "for x in range((arr.shape)[0]):\n",
    "    print(x)\n",
    "    for y in range((arr.shape)[1]):\n",
    "        print(y)\n",
    "        for z in range((arr.shape)[2]):\n",
    "            print(z)"
   ]
  },
  {
   "cell_type": "code",
   "execution_count": 26,
   "metadata": {},
   "outputs": [
    {
     "name": "stdout",
     "output_type": "stream",
     "text": [
      "[[['C' 'B' 'C' 'C' 'B']\n",
      "  ['C' 'B' 'C' 'B' 'A']\n",
      "  ['C' 'C' 'B' 'C' 'C']]\n",
      "\n",
      " [['C' 'B' 'C' 'B' 'E']\n",
      "  ['C' 'B' 'B' 'C' 'B']\n",
      "  ['C' 'A' 'B' 'C' 'C']]]\n"
     ]
    }
   ],
   "source": [
    "for x in range(0,2):\n",
    "    for y in range(0,3):\n",
    "        for z in range(0,5):\n",
    "            if arr[x,y,z] == min_arr:\n",
    "                    arr_vacio[x,y,z]='E' \n",
    "            elif arr[x,y,z] == max_arr:\n",
    "                    arr_vacio[x,y,z]='D' \n",
    "            elif arr[x,y,z] < media_arr:\n",
    "                    arr_vacio[x,y,z]='C'              \n",
    "            elif arr[x][y][z] == media_arr:\n",
    "                    arr_vacio[x,y,z]='A'\n",
    "            elif arr[x,y,z] > media_arr:\n",
    "                    arr_vacio[x,y,z]='B'\n",
    "\n",
    "\n",
    "            else:\n",
    "                    print('no ha hecho nada')\n",
    "print(arr_vacio)     "
   ]
  },
  {
   "cell_type": "code",
   "execution_count": 30,
   "metadata": {},
   "outputs": [
    {
     "data": {
      "text/plain": [
       "array(['', '', '', '', '', '', '', '', '', '', '', '', '', '', '', '', '',\n",
       "       '', '', '', '', '', '', '', '', '', '', '', '', ''], dtype='<U1')"
      ]
     },
     "execution_count": 30,
     "metadata": {},
     "output_type": "execute_result"
    }
   ],
   "source": [
    "#Estupendo, tenemos un array con strings. Ahora realizaremos un ejercicio similar al anterior, pero en este caso nos crearemos \n",
    "# un array vacío unidimensional de 30 elementos. \n",
    "\n",
    "#Al final de este ejercicio acabaremos teniendo un array de tres dimensiones con la misma forma que el primero que nos creamos.\n",
    "\n",
    "arr_uni=np.zeros(30,str)\n",
    "arr_uni"
   ]
  },
  {
   "cell_type": "code",
   "execution_count": 31,
   "metadata": {},
   "outputs": [
    {
     "data": {
      "text/plain": [
       "(30,)"
      ]
     },
     "execution_count": 31,
     "metadata": {},
     "output_type": "execute_result"
    }
   ],
   "source": [
    "arr_uni.shape"
   ]
  },
  {
   "cell_type": "code",
   "execution_count": 35,
   "metadata": {},
   "outputs": [
    {
     "data": {
      "text/plain": [
       "array([[['', '', '', '', ''],\n",
       "        ['', '', '', '', ''],\n",
       "        ['', '', '', '', '']],\n",
       "\n",
       "       [['', '', '', '', ''],\n",
       "        ['', '', '', '', ''],\n",
       "        ['', '', '', '', '']]], dtype='<U1')"
      ]
     },
     "execution_count": 35,
     "metadata": {},
     "output_type": "execute_result"
    }
   ],
   "source": [
    "arr_uni=np.reshape(arr_uni,(2,3,5))\n",
    "arr_uni"
   ]
  },
  {
   "cell_type": "code",
   "execution_count": 36,
   "metadata": {},
   "outputs": [
    {
     "name": "stdout",
     "output_type": "stream",
     "text": [
      "[[['2' '1' '2' '2' '1']\n",
      "  ['2' '1' '2' '1' '1']\n",
      "  ['2' '2' '1' '2' '2']]\n",
      "\n",
      " [['2' '1' '2' '1' '3']\n",
      "  ['2' '1' '1' '2' '1']\n",
      "  ['2' '1' '1' '2' '2']]]\n"
     ]
    }
   ],
   "source": [
    "#En este caso:\n",
    "#Si el valor del array creado en el ejercicio anterior es \"A\" o \"B\" lo reemplazaremos por 1\n",
    "#Si el valor del array creado en el ejercicio anterior es \"C\" o \"D\" lo reemplazaremos por 2\n",
    "#Si el valor del array creado en el ejercicio anterior es \"E\" lo reemplazaremos por 3.\n",
    "\n",
    "for x in range(0,2):\n",
    "    for y in range(0,3):\n",
    "        for z in range(0,5):\n",
    "                if arr_vacio[x][y][z] == 'A' or arr_vacio[x][y][z] == 'B':\n",
    "                    arr_uni[x][y][z]=1\n",
    "                elif arr_vacio[x][y][z] == 'C' or arr_vacio[x][y][z] == 'D':\n",
    "                    arr_uni[x][y][z]=2\n",
    "                elif arr_vacio[x][y][z] == 'E':\n",
    "                    arr_uni[x][y][z]=3\n",
    "                else:\n",
    "                    print('no ha funcionado')\n",
    "\n",
    "print(arr_uni)"
   ]
  }
 ],
 "metadata": {
  "kernelspec": {
   "display_name": "Python 3.9.7 ('base')",
   "language": "python",
   "name": "python3"
  },
  "language_info": {
   "codemirror_mode": {
    "name": "ipython",
    "version": 3
   },
   "file_extension": ".py",
   "mimetype": "text/x-python",
   "name": "python",
   "nbconvert_exporter": "python",
   "pygments_lexer": "ipython3",
   "version": "3.9.7"
  },
  "orig_nbformat": 4,
  "vscode": {
   "interpreter": {
    "hash": "7ad202eda4b463b15866ae6aadf94c3d2752d74520fedda13d68ef6e8aba5314"
   }
  }
 },
 "nbformat": 4,
 "nbformat_minor": 2
}
