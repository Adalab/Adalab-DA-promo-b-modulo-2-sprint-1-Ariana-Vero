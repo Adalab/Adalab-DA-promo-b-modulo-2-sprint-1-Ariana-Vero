{
 "cells": [
  {
   "cell_type": "code",
   "execution_count": 2,
   "metadata": {},
   "outputs": [],
   "source": [
    "import numpy as np\n",
    "import pandas as pd"
   ]
  },
  {
   "cell_type": "markdown",
   "metadata": {},
   "source": [
    "EJERICIO 1: Cread un array de dos dimensiones de 5 filas y 3 columnas. Sobre el array creado anteriormente, extraed:"
   ]
  },
  {
   "cell_type": "code",
   "execution_count": 3,
   "metadata": {},
   "outputs": [
    {
     "data": {
      "text/plain": [
       "array([[ 5, 60, 62],\n",
       "       [26, 78, 22],\n",
       "       [84, 73, 54],\n",
       "       [14, 16, 51],\n",
       "       [41, 74, 82]])"
      ]
     },
     "execution_count": 3,
     "metadata": {},
     "output_type": "execute_result"
    }
   ],
   "source": [
    "bidimensional = np.random.randint(0, 100, (5, 3))\n",
    "bidimensional"
   ]
  },
  {
   "cell_type": "code",
   "execution_count": 4,
   "metadata": {},
   "outputs": [
    {
     "data": {
      "text/plain": [
       "60"
      ]
     },
     "execution_count": 4,
     "metadata": {},
     "output_type": "execute_result"
    }
   ],
   "source": [
    "# El valor de la primera fila y la segunda columna.\n",
    "\n",
    "bidimensional [0,1]"
   ]
  },
  {
   "cell_type": "code",
   "execution_count": 5,
   "metadata": {},
   "outputs": [
    {
     "data": {
      "text/plain": [
       "array([26, 78])"
      ]
     },
     "execution_count": 5,
     "metadata": {},
     "output_type": "execute_result"
    }
   ],
   "source": [
    "#Los valores de la segunda fila y las dos primeras columnas.\n",
    "\n",
    "bidimensional [1,:2]"
   ]
  },
  {
   "cell_type": "code",
   "execution_count": 6,
   "metadata": {},
   "outputs": [
    {
     "data": {
      "text/plain": [
       "array([[ 5, 60, 62],\n",
       "       [84, 73, 54],\n",
       "       [41, 74, 82]])"
      ]
     },
     "execution_count": 6,
     "metadata": {},
     "output_type": "execute_result"
    }
   ],
   "source": [
    "#Extraed las filas pares (incluyendo la 0) y todas las columnas.\n",
    "\n",
    "bidimensional[::2,]"
   ]
  },
  {
   "cell_type": "code",
   "execution_count": 7,
   "metadata": {},
   "outputs": [
    {
     "data": {
      "text/plain": [
       "array([60, 62, 78, 84, 73, 54, 51, 74, 82])"
      ]
     },
     "execution_count": 7,
     "metadata": {},
     "output_type": "execute_result"
    }
   ],
   "source": [
    "# Extraed los valores que sean mayores que 0.5.\n",
    "\n",
    "bidimensional[bidimensional > 50]"
   ]
  },
  {
   "cell_type": "code",
   "execution_count": 8,
   "metadata": {},
   "outputs": [
    {
     "data": {
      "text/plain": [
       "array([ 5, 60, 62, 78, 84, 73, 54, 14, 16, 51, 74, 82])"
      ]
     },
     "execution_count": 8,
     "metadata": {},
     "output_type": "execute_result"
    }
   ],
   "source": [
    "#Extraed los valores menores que 0.2 o mayores que 0.5\n",
    "\n",
    "bidimensional[(bidimensional < 20) | (bidimensional > 50)]"
   ]
  },
  {
   "cell_type": "markdown",
   "metadata": {},
   "source": [
    "EJERCICIO 2: Cread dos array de tres dimensiones:"
   ]
  },
  {
   "cell_type": "code",
   "execution_count": 9,
   "metadata": {},
   "outputs": [
    {
     "data": {
      "text/plain": [
       "array([[[41, 70, 38],\n",
       "        [94, 43, 85],\n",
       "        [41, 12, 58],\n",
       "        [22, 22,  0],\n",
       "        [61, 59, 31]],\n",
       "\n",
       "       [[77, 35, 20],\n",
       "        [65, 78, 58],\n",
       "        [94, 48,  7],\n",
       "        [30, 25, 51],\n",
       "        [25,  9, 24]]])"
      ]
     },
     "execution_count": 9,
     "metadata": {},
     "output_type": "execute_result"
    }
   ],
   "source": [
    "# Array 1 de 2 matrices, 5 filas y 3 columnas.\n",
    "\n",
    "array1 = np.random.randint(0, 100, (2, 5, 3))\n",
    "array1"
   ]
  },
  {
   "cell_type": "code",
   "execution_count": 10,
   "metadata": {},
   "outputs": [
    {
     "data": {
      "text/plain": [
       "array([[[48, 51,  6, 93, 71],\n",
       "        [ 8, 71, 58,  2, 57]],\n",
       "\n",
       "       [[19, 80, 21, 65,  2],\n",
       "        [ 6, 64, 72, 24, 62]],\n",
       "\n",
       "       [[91, 13, 56, 92,  2],\n",
       "        [61,  5, 47, 84, 93]]])"
      ]
     },
     "execution_count": 10,
     "metadata": {},
     "output_type": "execute_result"
    }
   ],
   "source": [
    "# Array 2 de 3 matrices, 2 filas y 5 columnas. \n",
    "\n",
    "array2 = np.random.randint(0, 100, (3, 2, 5))\n",
    "array2"
   ]
  },
  {
   "cell_type": "markdown",
   "metadata": {},
   "source": [
    "Haced un análisis exploratorio de los array creados. Recordad que en el ejercicio de ayer nos creamos una función para esto."
   ]
  },
  {
   "cell_type": "code",
   "execution_count": 11,
   "metadata": {},
   "outputs": [],
   "source": [
    "def mostrar_propiedades(array):\n",
    "\n",
    "    print(\"las caractéristicas de este array son:\",\"\\n\")\n",
    "    print(\"dimensiones \", array.ndim)\n",
    "    print(\"forma \", array.shape)\n",
    "    print(\"tamaño \", array.size)\n",
    "    print(\"tipo de dato \", array.dtype)\n",
    "\n",
    "    return"
   ]
  },
  {
   "cell_type": "code",
   "execution_count": 12,
   "metadata": {},
   "outputs": [
    {
     "name": "stdout",
     "output_type": "stream",
     "text": [
      "las caractéristicas de este array son: \n",
      "\n",
      "dimensiones  3\n",
      "forma  (2, 5, 3)\n",
      "tamaño  30\n",
      "tipo de dato  int32\n"
     ]
    }
   ],
   "source": [
    "# Propiedades array 1\n",
    "mostrar_propiedades(array1)"
   ]
  },
  {
   "cell_type": "markdown",
   "metadata": {},
   "source": [
    "Sumad los dos arrays. ¿Podéis? ¿Por qué?"
   ]
  },
  {
   "cell_type": "code",
   "execution_count": 13,
   "metadata": {},
   "outputs": [
    {
     "name": "stdout",
     "output_type": "stream",
     "text": [
      "las caractéristicas de este array son: \n",
      "\n",
      "dimensiones  3\n",
      "forma  (3, 2, 5)\n",
      "tamaño  30\n",
      "tipo de dato  int32\n"
     ]
    }
   ],
   "source": [
    "# Propiedades array 2\n",
    "mostrar_propiedades(array2)"
   ]
  },
  {
   "cell_type": "code",
   "execution_count": 35,
   "metadata": {},
   "outputs": [
    {
     "ename": "ValueError",
     "evalue": "operands could not be broadcast together with shapes (2,5,3) (3,2,5) ",
     "output_type": "error",
     "traceback": [
      "\u001b[1;31m---------------------------------------------------------------------------\u001b[0m",
      "\u001b[1;31mValueError\u001b[0m                                Traceback (most recent call last)",
      "\u001b[1;32mc:\\Users\\arian\\Desktop\\Módulo2\\PP local\\Numpy2.ipynb Celda 15\u001b[0m in \u001b[0;36m<cell line: 1>\u001b[1;34m()\u001b[0m\n\u001b[1;32m----> <a href='vscode-notebook-cell:/c%3A/Users/arian/Desktop/M%C3%B3dulo2/PP%20local/Numpy2.ipynb#X24sZmlsZQ%3D%3D?line=0'>1</a>\u001b[0m array1 \u001b[39m+\u001b[39;49m array2\n",
      "\u001b[1;31mValueError\u001b[0m: operands could not be broadcast together with shapes (2,5,3) (3,2,5) "
     ]
    }
   ],
   "source": [
    "array1 + array2  # No se pueden sumar porque no tienen la misma forma."
   ]
  },
  {
   "cell_type": "markdown",
   "metadata": {},
   "source": [
    "Para cambiar la forma de un array y poder hacer operaciones entre arrays que tienen distintas formas hemos aprendido dos métodos: reshape y transpose. Utiliza estas dos funciones para cambiar la forma de los array y hacer operaciones entre ellos."
   ]
  },
  {
   "cell_type": "code",
   "execution_count": 38,
   "metadata": {},
   "outputs": [
    {
     "data": {
      "text/plain": [
       "array([[[61,  4, 32, 15, 65],\n",
       "        [52, 18, 80, 52, 30]],\n",
       "\n",
       "       [[31, 20, 35, 17, 92],\n",
       "        [56, 63, 36, 43, 70]],\n",
       "\n",
       "       [[84, 70, 44,  5, 18],\n",
       "        [21,  8, 53, 80, 53]]])"
      ]
     },
     "execution_count": 38,
     "metadata": {},
     "output_type": "execute_result"
    }
   ],
   "source": [
    "# .reshape()\n",
    "array_reshape = np.reshape(array1, (3,2,5))\n",
    "array_reshape"
   ]
  },
  {
   "cell_type": "code",
   "execution_count": 39,
   "metadata": {},
   "outputs": [
    {
     "data": {
      "text/plain": [
       "array([[[ 92,  80, 107,  35,  74],\n",
       "        [116,  49, 108,  88,  38]],\n",
       "\n",
       "       [[111,  43, 124,  69, 136],\n",
       "        [ 71, 152,  78,  97, 162]],\n",
       "\n",
       "       [[172,  71,  57,  97,  72],\n",
       "        [ 30,  35, 108, 114, 103]]])"
      ]
     },
     "execution_count": 39,
     "metadata": {},
     "output_type": "execute_result"
    }
   ],
   "source": [
    "array2 + array_reshape # Ya se pueden sumar"
   ]
  },
  {
   "cell_type": "code",
   "execution_count": 36,
   "metadata": {},
   "outputs": [
    {
     "data": {
      "text/plain": [
       "array([[[61, 15, 18, 30, 35],\n",
       "        [56, 43, 70, 18, 53]],\n",
       "\n",
       "       [[ 4, 65, 80, 31, 17],\n",
       "        [63, 70, 44, 21, 80]],\n",
       "\n",
       "       [[32, 52, 52, 20, 92],\n",
       "        [36, 84,  5,  8, 53]]])"
      ]
     },
     "execution_count": 36,
     "metadata": {},
     "output_type": "execute_result"
    }
   ],
   "source": [
    "# .transpose()\n",
    "\n",
    "array_transpose = np.transpose(array1, (2,0,1))\n",
    "array_transpose"
   ]
  },
  {
   "cell_type": "code",
   "execution_count": 37,
   "metadata": {},
   "outputs": [
    {
     "data": {
      "text/plain": [
       "array([[[ 92,  91,  93,  50,  44],\n",
       "        [120,  74,  98,  54,  61]],\n",
       "\n",
       "       [[ 84,  88, 169,  83,  61],\n",
       "        [ 78, 159,  86,  75, 172]],\n",
       "\n",
       "       [[120,  53,  65, 112, 146],\n",
       "        [ 45, 111,  60,  42, 103]]])"
      ]
     },
     "execution_count": 37,
     "metadata": {},
     "output_type": "execute_result"
    }
   ],
   "source": [
    "array2 + array_transpose # Ya se pueden sumar"
   ]
  }
 ],
 "metadata": {
  "kernelspec": {
   "display_name": "Python 3.10.5 64-bit",
   "language": "python",
   "name": "python3"
  },
  "language_info": {
   "codemirror_mode": {
    "name": "ipython",
    "version": 3
   },
   "file_extension": ".py",
   "mimetype": "text/x-python",
   "name": "python",
   "nbconvert_exporter": "python",
   "pygments_lexer": "ipython3",
   "version": "3.10.5"
  },
  "orig_nbformat": 4,
  "vscode": {
   "interpreter": {
    "hash": "6c417e8ec6dca726918e9382ccd5f9a276f75c00fe45ac2c66804bdd5db60888"
   }
  }
 },
 "nbformat": 4,
 "nbformat_minor": 2
}
