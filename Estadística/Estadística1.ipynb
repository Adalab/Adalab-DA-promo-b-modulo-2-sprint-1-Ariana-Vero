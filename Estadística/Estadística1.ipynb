{
 "cells": [
  {
   "cell_type": "code",
   "execution_count": 2,
   "metadata": {},
   "outputs": [],
   "source": [
    "import numpy as np\n",
    "import pandas as pd\n",
    "from scipy import stats\n",
    "\n"
   ]
  },
  {
   "cell_type": "markdown",
   "metadata": {},
   "source": [
    "Buscar un conjunto de datos a analizar:"
   ]
  },
  {
   "cell_type": "code",
   "execution_count": 4,
   "metadata": {},
   "outputs": [
    {
     "data": {
      "text/html": [
       "<div>\n",
       "<style scoped>\n",
       "    .dataframe tbody tr th:only-of-type {\n",
       "        vertical-align: middle;\n",
       "    }\n",
       "\n",
       "    .dataframe tbody tr th {\n",
       "        vertical-align: top;\n",
       "    }\n",
       "\n",
       "    .dataframe thead th {\n",
       "        text-align: right;\n",
       "    }\n",
       "</style>\n",
       "<table border=\"1\" class=\"dataframe\">\n",
       "  <thead>\n",
       "    <tr style=\"text-align: right;\">\n",
       "      <th></th>\n",
       "      <th>gender</th>\n",
       "      <th>age</th>\n",
       "      <th>hypertension</th>\n",
       "      <th>heart_disease</th>\n",
       "      <th>ever_married</th>\n",
       "      <th>work_type</th>\n",
       "      <th>Residence_type</th>\n",
       "      <th>avg_glucose_level</th>\n",
       "      <th>bmi</th>\n",
       "      <th>smoking_status</th>\n",
       "      <th>stroke</th>\n",
       "    </tr>\n",
       "  </thead>\n",
       "  <tbody>\n",
       "    <tr>\n",
       "      <th>0</th>\n",
       "      <td>Female</td>\n",
       "      <td>61.0</td>\n",
       "      <td>0</td>\n",
       "      <td>0</td>\n",
       "      <td>Yes</td>\n",
       "      <td>Self-employed</td>\n",
       "      <td>Rural</td>\n",
       "      <td>202.21</td>\n",
       "      <td>31.555602</td>\n",
       "      <td>never smoked</td>\n",
       "      <td>1</td>\n",
       "    </tr>\n",
       "  </tbody>\n",
       "</table>\n",
       "</div>"
      ],
      "text/plain": [
       "   gender   age  hypertension  heart_disease ever_married      work_type  \\\n",
       "0  Female  61.0             0              0          Yes  Self-employed   \n",
       "\n",
       "  Residence_type  avg_glucose_level        bmi smoking_status  stroke  \n",
       "0          Rural             202.21  31.555602   never smoked       1  "
      ]
     },
     "execution_count": 4,
     "metadata": {},
     "output_type": "execute_result"
    }
   ],
   "source": [
    "#Se recomienda que el conjunto de datos a analizar tenga variables numéricas y categóricas. Ya que también se analizarán.\n",
    "\n",
    "df = pd.read_csv('stroke_brain_data.csv')\n",
    "df.head(1)"
   ]
  },
  {
   "cell_type": "markdown",
   "metadata": {},
   "source": [
    "Extraer los siguentes estadísiticos del conjunto de datos para varias de las variables disponibles:\n",
    "- Media\n",
    "- Desviación con respecto de la media\n",
    "- Varianza\n",
    "- Desviación típica\n",
    "- Moda\n",
    "- Mediana\n",
    "- Media ponderada\n",
    "- Robustez\n",
    "- Coeficiente de variación\n",
    "- Interpretación de los resultados.\n",
    "- Ahora interpreta los resultados obtenidos de los diferentes estadísticos estudiados haciendo hincapié en aspectos interesantes de tus datos y explica lo mejor posible la naturaleza de los mismos."
   ]
  },
  {
   "cell_type": "code",
   "execution_count": 31,
   "metadata": {},
   "outputs": [
    {
     "data": {
      "text/plain": [
       "array([61.  , 59.  , 78.  , 57.  , 58.  , 59.  , 63.  , 75.  , 76.  ,\n",
       "       78.  , 63.  , 78.  , 75.  , 76.  , 51.  , 66.  , 58.  , 58.  ,\n",
       "       76.  , 72.  , 78.  , 75.  , 38.  , 65.  , 79.  , 76.  , 71.  ,\n",
       "        1.32, 79.  , 64.  , 79.  , 78.  , 80.  , 77.  , 61.  , 79.  ,\n",
       "       74.  , 76.  , 74.  , 71.  , 34.  , 76.  , 63.  , 61.  , 54.  ,\n",
       "       40.  , 48.  , 61.  , 31.  , 43.  ,  9.  , 52.  , 77.  , 17.  ,\n",
       "       71.  , 35.  , 23.  , 40.  , 23.  , 71.  , 13.  , 73.  ,  3.  ,\n",
       "       51.  , 35.  , 73.  ,  6.  , 46.  , 71.  , 54.  , 80.  , 49.  ,\n",
       "       72.  , 25.  , 27.  , 51.  , 48.  ,  7.  , 61.  , 25.  , 30.  ,\n",
       "       71.  , 47.  , 76.  , 29.  , 48.  , 57.  , 58.  , 45.  , 66.  ,\n",
       "       59.  , 34.  , 69.  , 66.  , 48.  , 32.  , 60.  , 30.  , 60.  ,\n",
       "       10.  , 20.  , 77.  , 67.  , 42.  , 60.  ,  0.48, 35.  , 50.  ,\n",
       "       19.  , 77.  , 67.  , 20.  , 49.  , 77.  , 52.  , 43.  , 69.  ,\n",
       "       34.  , 78.  , 76.  , 62.  , 71.  , 79.  , 79.  , 54.  , 73.  ,\n",
       "        5.  , 38.  , 72.  , 14.  , 50.  , 29.  , 75.  , 68.  , 33.  ,\n",
       "       63.  , 56.  , 70.  , 71.  , 73.  , 67.  , 62.  , 38.  , 47.  ,\n",
       "       42.  , 58.  , 44.  , 42.  , 78.  , 68.  , 39.  , 60.  , 31.  ,\n",
       "       67.  , 52.  , 53.  , 33.  , 53.  , 49.  , 52.  , 41.  ,  1.88,\n",
       "       34.  , 16.  , 45.  ,  1.08,  1.8 , 13.  , 61.  , 37.  , 32.  ,\n",
       "       79.  ,  8.  , 75.  , 79.  , 69.  , 31.  , 82.  , 32.  , 17.  ,\n",
       "       18.  , 59.  ,  3.  , 20.  , 78.  , 52.  , 65.  , 59.  , 78.  ,\n",
       "       70.  , 70.  , 37.  , 72.  ,  1.32, 58.  , 31.  , 41.  , 40.  ,\n",
       "       45.  , 40.  , 80.  ])"
      ]
     },
     "execution_count": 31,
     "metadata": {},
     "output_type": "execute_result"
    }
   ],
   "source": [
    "#Creamos un array para los datos de la edad.\n",
    "\n",
    "datos_age = np.array(df['age'])\n",
    "datos_age"
   ]
  },
  {
   "cell_type": "code",
   "execution_count": null,
   "metadata": {},
   "outputs": [],
   "source": [
    "#Creamos un array para los datos del bmi(Body mass index)\n",
    "\n",
    "datos_bmi = np.array(df['bmi'])\n",
    "datos_bmi"
   ]
  },
  {
   "cell_type": "code",
   "execution_count": 13,
   "metadata": {},
   "outputs": [
    {
     "data": {
      "text/plain": [
       "29.33687008866843"
      ]
     },
     "execution_count": 13,
     "metadata": {},
     "output_type": "execute_result"
    }
   ],
   "source": [
    "#Media BMI\n",
    "\n",
    "bmi = np.mean(datos_bmi)\n",
    "bmi\n"
   ]
  },
  {
   "cell_type": "code",
   "execution_count": 30,
   "metadata": {},
   "outputs": [
    {
     "data": {
      "text/plain": [
       "array([8.95084577e+00, 6.95084577e+00, 2.59508458e+01, 4.95084577e+00,\n",
       "       5.95084577e+00, 6.95084577e+00, 1.09508458e+01, 2.29508458e+01,\n",
       "       2.39508458e+01, 2.59508458e+01, 1.09508458e+01, 2.59508458e+01,\n",
       "       2.29508458e+01, 2.39508458e+01, 1.04915423e+00, 1.39508458e+01,\n",
       "       5.95084577e+00, 5.95084577e+00, 2.39508458e+01, 1.99508458e+01,\n",
       "       2.59508458e+01, 2.29508458e+01, 1.40491542e+01, 1.29508458e+01,\n",
       "       2.69508458e+01, 2.39508458e+01, 1.89508458e+01, 5.07291542e+01,\n",
       "       2.69508458e+01, 1.19508458e+01, 2.69508458e+01, 2.59508458e+01,\n",
       "       2.79508458e+01, 2.49508458e+01, 8.95084577e+00, 2.69508458e+01,\n",
       "       2.19508458e+01, 2.39508458e+01, 2.19508458e+01, 1.89508458e+01,\n",
       "       1.80491542e+01, 2.39508458e+01, 1.09508458e+01, 8.95084577e+00,\n",
       "       1.95084577e+00, 1.20491542e+01, 4.04915423e+00, 8.95084577e+00,\n",
       "       2.10491542e+01, 9.04915423e+00, 4.30491542e+01, 4.91542289e-02,\n",
       "       2.49508458e+01, 3.50491542e+01, 1.89508458e+01, 1.70491542e+01,\n",
       "       2.90491542e+01, 1.20491542e+01, 2.90491542e+01, 1.89508458e+01,\n",
       "       3.90491542e+01, 2.09508458e+01, 4.90491542e+01, 1.04915423e+00,\n",
       "       1.70491542e+01, 2.09508458e+01, 4.60491542e+01, 6.04915423e+00,\n",
       "       1.89508458e+01, 1.95084577e+00, 2.79508458e+01, 3.04915423e+00,\n",
       "       1.99508458e+01, 2.70491542e+01, 2.50491542e+01, 1.04915423e+00,\n",
       "       4.04915423e+00, 4.50491542e+01, 8.95084577e+00, 2.70491542e+01,\n",
       "       2.20491542e+01, 1.89508458e+01, 5.04915423e+00, 2.39508458e+01,\n",
       "       2.30491542e+01, 4.04915423e+00, 4.95084577e+00, 5.95084577e+00,\n",
       "       7.04915423e+00, 1.39508458e+01, 6.95084577e+00, 1.80491542e+01,\n",
       "       1.69508458e+01, 1.39508458e+01, 4.04915423e+00, 2.00491542e+01,\n",
       "       7.95084577e+00, 2.20491542e+01, 7.95084577e+00, 4.20491542e+01,\n",
       "       3.20491542e+01, 2.49508458e+01, 1.49508458e+01, 1.00491542e+01,\n",
       "       7.95084577e+00, 5.15691542e+01, 1.70491542e+01, 2.04915423e+00,\n",
       "       3.30491542e+01, 2.49508458e+01, 1.49508458e+01, 3.20491542e+01,\n",
       "       3.04915423e+00, 2.49508458e+01, 4.91542289e-02, 9.04915423e+00,\n",
       "       1.69508458e+01, 1.80491542e+01, 2.59508458e+01, 2.39508458e+01,\n",
       "       9.95084577e+00, 1.89508458e+01, 2.69508458e+01, 2.69508458e+01,\n",
       "       1.95084577e+00, 2.09508458e+01, 4.70491542e+01, 1.40491542e+01,\n",
       "       1.99508458e+01, 3.80491542e+01, 2.04915423e+00, 2.30491542e+01,\n",
       "       2.29508458e+01, 1.59508458e+01, 1.90491542e+01, 1.09508458e+01,\n",
       "       3.95084577e+00, 1.79508458e+01, 1.89508458e+01, 2.09508458e+01,\n",
       "       1.49508458e+01, 9.95084577e+00, 1.40491542e+01, 5.04915423e+00,\n",
       "       1.00491542e+01, 5.95084577e+00, 8.04915423e+00, 1.00491542e+01,\n",
       "       2.59508458e+01, 1.59508458e+01, 1.30491542e+01, 7.95084577e+00,\n",
       "       2.10491542e+01, 1.49508458e+01, 4.91542289e-02, 9.50845771e-01,\n",
       "       1.90491542e+01, 9.50845771e-01, 3.04915423e+00, 4.91542289e-02,\n",
       "       1.10491542e+01, 5.01691542e+01, 1.80491542e+01, 3.60491542e+01,\n",
       "       7.04915423e+00, 5.09691542e+01, 5.02491542e+01, 3.90491542e+01,\n",
       "       8.95084577e+00, 1.50491542e+01, 2.00491542e+01, 2.69508458e+01,\n",
       "       4.40491542e+01, 2.29508458e+01, 2.69508458e+01, 1.69508458e+01,\n",
       "       2.10491542e+01, 2.99508458e+01, 2.00491542e+01, 3.50491542e+01,\n",
       "       3.40491542e+01, 6.95084577e+00, 4.90491542e+01, 3.20491542e+01,\n",
       "       2.59508458e+01, 4.91542289e-02, 1.29508458e+01, 6.95084577e+00,\n",
       "       2.59508458e+01, 1.79508458e+01, 1.79508458e+01, 1.50491542e+01,\n",
       "       1.99508458e+01, 5.07291542e+01, 5.95084577e+00, 2.10491542e+01,\n",
       "       1.10491542e+01, 1.20491542e+01, 7.04915423e+00, 1.20491542e+01,\n",
       "       2.79508458e+01])"
      ]
     },
     "execution_count": 30,
     "metadata": {},
     "output_type": "execute_result"
    }
   ],
   "source": [
    "#Desviación de la edad con respecto de la media\n",
    "\n",
    "desviacion = np.abs(datos_age-age)\n",
    "desviacion\n",
    "\n",
    "#Hay bastantes valores que se aproximan  la media. "
   ]
  },
  {
   "cell_type": "code",
   "execution_count": 16,
   "metadata": {},
   "outputs": [
    {
     "data": {
      "text/plain": [
       "493.7594545085518"
      ]
     },
     "execution_count": 16,
     "metadata": {},
     "output_type": "execute_result"
    }
   ],
   "source": [
    "#Varianza\n",
    "\n",
    "varianza = np.var(datos_age)\n",
    "\n",
    "#Dado que el número es elevado, se entiende que la probabilidad de infarto cerebral sucede más para edades más avanzadas. "
   ]
  },
  {
   "cell_type": "code",
   "execution_count": 29,
   "metadata": {},
   "outputs": [
    {
     "data": {
      "text/plain": [
       "22.22069878533418"
      ]
     },
     "execution_count": 29,
     "metadata": {},
     "output_type": "execute_result"
    }
   ],
   "source": [
    "#Desviación típica\n",
    "\n",
    "desviacion_tipica = np.std(datos_age)\n",
    "desviacion_tipica\n",
    "\n",
    "#Hay una diferencia de 22 años de media entre los datos. "
   ]
  },
  {
   "cell_type": "code",
   "execution_count": 19,
   "metadata": {},
   "outputs": [
    {
     "name": "stdout",
     "output_type": "stream",
     "text": [
      "[78.]\n",
      "[9]\n"
     ]
    },
    {
     "name": "stderr",
     "output_type": "stream",
     "text": [
      "C:\\Users\\arian\\AppData\\Local\\Temp\\ipykernel_24216\\2683837917.py:3: FutureWarning: Unlike other reduction functions (e.g. `skew`, `kurtosis`), the default behavior of `mode` typically preserves the axis it acts along. In SciPy 1.11.0, this behavior will change: the default value of `keepdims` will become False, the `axis` over which the statistic is taken will be eliminated, and the value None will no longer be accepted. Set `keepdims` to True or False to avoid this warning.\n",
      "  moda, frecuencia =stats.mode(datos_age)\n"
     ]
    }
   ],
   "source": [
    "#Moda\n",
    "\n",
    "moda, frecuencia =stats.mode(datos_age)\n",
    "print(moda)\n",
    "print(frecuencia)\n",
    "\n",
    "#La edad más frecuente para sufrir un infarto cerebral son 78 años. "
   ]
  },
  {
   "cell_type": "code",
   "execution_count": 20,
   "metadata": {},
   "outputs": [
    {
     "data": {
      "text/plain": [
       "58.0"
      ]
     },
     "execution_count": 20,
     "metadata": {},
     "output_type": "execute_result"
    }
   ],
   "source": [
    "#Mediana\n",
    "\n",
    "mediana = np.median(datos_age)\n",
    "\n",
    "#La edad central de los datos es 58 años para sufrir un infarto cerebral. "
   ]
  },
  {
   "cell_type": "code",
   "execution_count": 24,
   "metadata": {},
   "outputs": [
    {
     "name": "stdout",
     "output_type": "stream",
     "text": [
      "(52.04915422885572+0j)\n"
     ]
    }
   ],
   "source": [
    "#Media Ponderada\n",
    "\n",
    "w = np.ones(len(datos_age), dtype=np.complex64)\n",
    "avg = np.average(datos_age, weights=w)\n",
    "print(avg)\n",
    "\n",
    "#La media ponderada no se diferencia mucho de la media porque los pesos son iguales para todos los datos. \n",
    "\n"
   ]
  },
  {
   "cell_type": "code",
   "execution_count": 25,
   "metadata": {},
   "outputs": [
    {
     "name": "stdout",
     "output_type": "stream",
     "text": [
      "52.04915422885573\n",
      "22.22069878533418\n",
      "0.426917576559105\n"
     ]
    }
   ],
   "source": [
    "#Coeficiente de variación y Robustez\n",
    "\n",
    "print(np.mean(datos_age)) # media para todos los datos\n",
    "print(np.std(datos_age)) # desviación típica para todos los datos\n",
    "print(np.std(datos_age) / np.abs(np.mean(datos_age))) #coeficiente variación: \n",
    "\n",
    "#Como el número obtenido no es muy elevado, significa que los datos son homogéneos y por lo tanto el conjunto de datos es robusto."
   ]
  }
 ],
 "metadata": {
  "kernelspec": {
   "display_name": "Python 3.10.5 64-bit",
   "language": "python",
   "name": "python3"
  },
  "language_info": {
   "codemirror_mode": {
    "name": "ipython",
    "version": 3
   },
   "file_extension": ".py",
   "mimetype": "text/x-python",
   "name": "python",
   "nbconvert_exporter": "python",
   "pygments_lexer": "ipython3",
   "version": "3.10.5"
  },
  "orig_nbformat": 4,
  "vscode": {
   "interpreter": {
    "hash": "6c417e8ec6dca726918e9382ccd5f9a276f75c00fe45ac2c66804bdd5db60888"
   }
  }
 },
 "nbformat": 4,
 "nbformat_minor": 2
}
