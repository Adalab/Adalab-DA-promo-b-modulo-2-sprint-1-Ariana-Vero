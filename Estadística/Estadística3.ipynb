{
 "cells": [
  {
   "cell_type": "code",
   "execution_count": 30,
   "metadata": {},
   "outputs": [],
   "source": [
    "import numpy as np\n",
    "import pandas as pd\n",
    "from scipy import stats\n",
    "from scipy.stats import skew\n",
    "import scipy.stats as st\n",
    "import matplotlib.pyplot as plt "
   ]
  },
  {
   "cell_type": "code",
   "execution_count": 2,
   "metadata": {},
   "outputs": [
    {
     "data": {
      "text/html": [
       "<div>\n",
       "<style scoped>\n",
       "    .dataframe tbody tr th:only-of-type {\n",
       "        vertical-align: middle;\n",
       "    }\n",
       "\n",
       "    .dataframe tbody tr th {\n",
       "        vertical-align: top;\n",
       "    }\n",
       "\n",
       "    .dataframe thead th {\n",
       "        text-align: right;\n",
       "    }\n",
       "</style>\n",
       "<table border=\"1\" class=\"dataframe\">\n",
       "  <thead>\n",
       "    <tr style=\"text-align: right;\">\n",
       "      <th></th>\n",
       "      <th>gender</th>\n",
       "      <th>age</th>\n",
       "      <th>hypertension</th>\n",
       "      <th>heart_disease</th>\n",
       "      <th>ever_married</th>\n",
       "      <th>work_type</th>\n",
       "      <th>Residence_type</th>\n",
       "      <th>avg_glucose_level</th>\n",
       "      <th>bmi</th>\n",
       "      <th>smoking_status</th>\n",
       "      <th>stroke</th>\n",
       "    </tr>\n",
       "  </thead>\n",
       "  <tbody>\n",
       "    <tr>\n",
       "      <th>0</th>\n",
       "      <td>Female</td>\n",
       "      <td>61.0</td>\n",
       "      <td>0</td>\n",
       "      <td>0</td>\n",
       "      <td>Yes</td>\n",
       "      <td>Self-employed</td>\n",
       "      <td>Rural</td>\n",
       "      <td>202.21</td>\n",
       "      <td>31.555602</td>\n",
       "      <td>never smoked</td>\n",
       "      <td>1</td>\n",
       "    </tr>\n",
       "  </tbody>\n",
       "</table>\n",
       "</div>"
      ],
      "text/plain": [
       "   gender   age  hypertension  heart_disease ever_married      work_type  \\\n",
       "0  Female  61.0             0              0          Yes  Self-employed   \n",
       "\n",
       "  Residence_type  avg_glucose_level        bmi smoking_status  stroke  \n",
       "0          Rural             202.21  31.555602   never smoked       1  "
      ]
     },
     "execution_count": 2,
     "metadata": {},
     "output_type": "execute_result"
    }
   ],
   "source": [
    "df = pd.read_csv('stroke_brain_data.csv')\n",
    "df.head(1)"
   ]
  },
  {
   "cell_type": "code",
   "execution_count": 3,
   "metadata": {},
   "outputs": [
    {
     "data": {
      "text/plain": [
       "array([61.  , 59.  , 78.  , 57.  , 58.  , 59.  , 63.  , 75.  , 76.  ,\n",
       "       78.  , 63.  , 78.  , 75.  , 76.  , 51.  , 66.  , 58.  , 58.  ,\n",
       "       76.  , 72.  , 78.  , 75.  , 38.  , 65.  , 79.  , 76.  , 71.  ,\n",
       "        1.32, 79.  , 64.  , 79.  , 78.  , 80.  , 77.  , 61.  , 79.  ,\n",
       "       74.  , 76.  , 74.  , 71.  , 34.  , 76.  , 63.  , 61.  , 54.  ,\n",
       "       40.  , 48.  , 61.  , 31.  , 43.  ,  9.  , 52.  , 77.  , 17.  ,\n",
       "       71.  , 35.  , 23.  , 40.  , 23.  , 71.  , 13.  , 73.  ,  3.  ,\n",
       "       51.  , 35.  , 73.  ,  6.  , 46.  , 71.  , 54.  , 80.  , 49.  ,\n",
       "       72.  , 25.  , 27.  , 51.  , 48.  ,  7.  , 61.  , 25.  , 30.  ,\n",
       "       71.  , 47.  , 76.  , 29.  , 48.  , 57.  , 58.  , 45.  , 66.  ,\n",
       "       59.  , 34.  , 69.  , 66.  , 48.  , 32.  , 60.  , 30.  , 60.  ,\n",
       "       10.  , 20.  , 77.  , 67.  , 42.  , 60.  ,  0.48, 35.  , 50.  ,\n",
       "       19.  , 77.  , 67.  , 20.  , 49.  , 77.  , 52.  , 43.  , 69.  ,\n",
       "       34.  , 78.  , 76.  , 62.  , 71.  , 79.  , 79.  , 54.  , 73.  ,\n",
       "        5.  , 38.  , 72.  , 14.  , 50.  , 29.  , 75.  , 68.  , 33.  ,\n",
       "       63.  , 56.  , 70.  , 71.  , 73.  , 67.  , 62.  , 38.  , 47.  ,\n",
       "       42.  , 58.  , 44.  , 42.  , 78.  , 68.  , 39.  , 60.  , 31.  ,\n",
       "       67.  , 52.  , 53.  , 33.  , 53.  , 49.  , 52.  , 41.  ,  1.88,\n",
       "       34.  , 16.  , 45.  ,  1.08,  1.8 , 13.  , 61.  , 37.  , 32.  ,\n",
       "       79.  ,  8.  , 75.  , 79.  , 69.  , 31.  , 82.  , 32.  , 17.  ,\n",
       "       18.  , 59.  ,  3.  , 20.  , 78.  , 52.  , 65.  , 59.  , 78.  ,\n",
       "       70.  , 70.  , 37.  , 72.  ,  1.32, 58.  , 31.  , 41.  , 40.  ,\n",
       "       45.  , 40.  , 80.  ])"
      ]
     },
     "execution_count": 3,
     "metadata": {},
     "output_type": "execute_result"
    }
   ],
   "source": [
    "datos_age = np.round(np.array(df['age']), decimals=2, out=None)\n",
    "datos_age"
   ]
  },
  {
   "cell_type": "code",
   "execution_count": 4,
   "metadata": {},
   "outputs": [
    {
     "data": {
      "text/plain": [
       "array([31.56, 30.24, 30.7 , 33.81, 31.38, 33.48, 30.04, 28.32, 28.4 ,\n",
       "       29.14, 31.6 , 29.32, 28.32, 27.95, 30.49, 29.29, 30.  , 30.2 ,\n",
       "       28.2 , 32.12, 29.21, 28.07, 29.86, 29.58, 27.97, 27.94, 28.95,\n",
       "       18.72, 29.14, 29.79, 28.76, 27.09, 27.28, 28.08, 32.95, 27.24,\n",
       "       28.74, 31.68, 28.07, 30.76, 29.7 , 33.08, 29.97, 30.86, 33.74,\n",
       "       30.07, 31.7 , 30.  , 31.2 , 29.85, 20.02, 33.12, 28.98, 26.42,\n",
       "       29.02, 29.79, 27.  , 30.07, 28.38, 30.38, 22.56, 30.2 , 18.9 ,\n",
       "       33.75, 29.61, 28.6 , 20.51, 31.61, 32.27, 31.9 , 27.41, 29.88,\n",
       "       28.55, 27.17, 28.9 , 32.29, 33.7 , 19.48, 33.75, 27.24, 29.28,\n",
       "       30.72, 32.06, 28.33, 28.62, 30.01, 35.19, 30.27, 30.01, 30.54,\n",
       "       31.38, 29.9 , 30.62, 29.19, 33.17, 29.75, 31.38, 29.28, 32.13,\n",
       "       20.26, 26.31, 28.  , 29.08, 32.5 , 31.9 , 17.9 , 29.83, 31.98,\n",
       "       26.28, 29.66, 28.94, 26.59, 30.19, 27.96, 31.79, 29.98, 30.57,\n",
       "       31.48, 28.02, 28.03, 32.44, 30.56, 30.5 , 27.41, 30.16, 33.9 ,\n",
       "       19.03, 33.54, 33.23, 25.93, 29.88, 30.35, 31.81, 33.48, 31.43,\n",
       "       29.93, 30.11, 30.78, 30.98, 28.37, 30.75, 31.75, 30.07, 31.72,\n",
       "       29.95, 30.55, 31.72, 30.69, 29.21, 28.97, 29.95, 33.48, 29.44,\n",
       "       29.1 , 31.84, 33.12, 29.75, 32.49, 30.06, 30.19, 29.99, 19.02,\n",
       "       29.7 , 26.53, 31.86, 18.8 , 18.72, 25.65, 33.47, 29.6 , 31.1 ,\n",
       "       29.79, 19.43, 28.4 , 29.21, 31.23, 29.23, 31.75, 31.5 , 26.53,\n",
       "       26.44, 32.13, 20.12, 26.53, 27.33, 31.75, 29.42, 33.18, 31.18,\n",
       "       28.64, 30.87, 29.7 , 30.7 , 18.8 , 30.2 , 32.72, 29.76, 31.12,\n",
       "       31.8 , 29.95, 29.1 ])"
      ]
     },
     "execution_count": 4,
     "metadata": {},
     "output_type": "execute_result"
    }
   ],
   "source": [
    "datos_bmi = np.round(np.array(df['bmi']), decimals=2, out=None)\n",
    "datos_bmi"
   ]
  },
  {
   "cell_type": "code",
   "execution_count": 14,
   "metadata": {},
   "outputs": [
    {
     "name": "stdout",
     "output_type": "stream",
     "text": [
      "<class 'pandas.core.frame.DataFrame'>\n",
      "RangeIndex: 201 entries, 0 to 200\n",
      "Data columns (total 11 columns):\n",
      " #   Column             Non-Null Count  Dtype  \n",
      "---  ------             --------------  -----  \n",
      " 0   gender             201 non-null    object \n",
      " 1   age                201 non-null    float64\n",
      " 2   hypertension       201 non-null    int64  \n",
      " 3   heart_disease      201 non-null    int64  \n",
      " 4   ever_married       201 non-null    object \n",
      " 5   work_type          201 non-null    object \n",
      " 6   Residence_type     201 non-null    object \n",
      " 7   avg_glucose_level  201 non-null    float64\n",
      " 8   bmi                201 non-null    float64\n",
      " 9   smoking_status     201 non-null    object \n",
      " 10  stroke             201 non-null    int64  \n",
      "dtypes: float64(3), int64(3), object(5)\n",
      "memory usage: 17.4+ KB\n"
     ]
    }
   ],
   "source": [
    "df.info()"
   ]
  },
  {
   "cell_type": "code",
   "execution_count": 17,
   "metadata": {},
   "outputs": [
    {
     "name": "stdout",
     "output_type": "stream",
     "text": [
      "ever_married  No  Yes\n",
      "gender               \n",
      "Female        29   68\n",
      "Male          23   81\n",
      "-------------------------------------\n",
      "Residence_type  Rural  Urban\n",
      "work_type                   \n",
      "Govt_job           10     17\n",
      "Private            56     58\n",
      "Self-employed      22     22\n",
      "children            7      9\n",
      "-------------------------------------\n",
      "smoking_status  Unknown  formerly smoked  never smoked  smokes\n",
      "gender                                                        \n",
      "Female               25               19            26      27\n",
      "Male                 36               29            14      25\n",
      "-------------------------------------\n",
      "smoking_status  Unknown  formerly smoked  never smoked  smokes\n",
      "ever_married                                                  \n",
      "No                   23               11             6      12\n",
      "Yes                  38               37            34      40\n",
      "-------------------------------------\n"
     ]
    }
   ],
   "source": [
    "#1. Extraer los siguentes estadísiticos del conjunto de datos para varias de las varibles disponibles:\n",
    "    #Tabla de contingencia\n",
    "\n",
    "crosstab1=pd.crosstab(df['gender'],df['ever_married'])\n",
    "print(crosstab1)\n",
    "print('-------------------------------------')\n",
    "\n",
    "crosstab2=pd.crosstab(df['work_type'],df['Residence_type'])\n",
    "print(crosstab2)\n",
    "print('-------------------------------------')\n",
    "\n",
    "crosstab3=pd.crosstab(df['gender'],df['smoking_status'])\n",
    "print(crosstab3)\n",
    "print('-------------------------------------')\n",
    "\n",
    "crosstab4=pd.crosstab(df['ever_married'],df['smoking_status'])\n",
    "print(crosstab4)\n",
    "print('-------------------------------------')\n",
    "\n",
    "#Las tablas muestran la relación de dos variables con respecto a los infartos cerebrales. "
   ]
  },
  {
   "cell_type": "code",
   "execution_count": 22,
   "metadata": {},
   "outputs": [
    {
     "name": "stdout",
     "output_type": "stream",
     "text": [
      "[[1.         0.23469962]\n",
      " [0.23469962 1.        ]]\n",
      "-------------------------------------\n",
      "[[1.         0.15500859]\n",
      " [0.15500859 1.        ]]\n",
      "-------------------------------------\n",
      "[[1.         0.00366273]\n",
      " [0.00366273 1.        ]]\n",
      "-------------------------------------\n"
     ]
    }
   ],
   "source": [
    "    #Coeficiente de correlación de las variables numéricas del dataset.\n",
    "\n",
    "coef1=np.corrcoef(df['age'],df['hypertension'])\n",
    "print(coef1)\n",
    "print('-------------------------------------')\n",
    "coef2=np.corrcoef(df['heart_disease'],df['avg_glucose_level'])\n",
    "print(coef2)\n",
    "print('-------------------------------------')\n",
    "coef3=np.corrcoef(df['bmi'],df['stroke'])\n",
    "print(coef3)\n",
    "print('-------------------------------------')\n",
    "\n",
    "\n",
    "#Las variables cuantitativas utilizadas para conocer la correlación entre ellas, están muy poco correlacionadas según los tres resultados obtenidas."
   ]
  },
  {
   "cell_type": "code",
   "execution_count": 29,
   "metadata": {},
   "outputs": [
    {
     "name": "stdout",
     "output_type": "stream",
     "text": [
      "-0.6571139173306693\n",
      "-------------------------------------\n",
      "-1.7259135697729306\n",
      "-------------------------------------\n",
      "1.5077954784946597\n",
      "-------------------------------------\n"
     ]
    },
    {
     "data": {
      "text/plain": [
       "<AxesSubplot:ylabel='Frequency'>"
      ]
     },
     "execution_count": 29,
     "metadata": {},
     "output_type": "execute_result"
    },
    {
     "data": {
      "image/png": "[encoded data removed]",
      "text/plain": [
       "<Figure size 432x288 with 1 Axes>"
      ]
     },
     "metadata": {
      "needs_background": "light"
     },
     "output_type": "display_data"
    }
   ],
   "source": [
    "    #Sesgos de alguna de las variables numéricas del dataset.\n",
    "\n",
    "sesgo1=skew(df['age'])\n",
    "print(sesgo1)\n",
    "print('-------------------------------------')\n",
    "\n",
    "sesgo2=skew(df['bmi'])\n",
    "print(sesgo2)\n",
    "print('-------------------------------------')\n",
    "\n",
    "sesgo3=skew(df['stroke'])\n",
    "print(sesgo3)\n",
    "print('-------------------------------------')\n",
    "\n",
    "df['age'].plot.hist()\n",
    "\n",
    "#Los dos primeros conjuntos de datos están sesgados a la izquierda(resultado negativo), el último está sesgado a la derecha. \n",
    "# Lo podemos comprobar con el gráfico de barras."
   ]
  },
  {
   "cell_type": "code",
   "execution_count": 37,
   "metadata": {},
   "outputs": [
    {
     "data": {
      "text/plain": [
       "(48.950924496317526, 55.14738396139393)"
      ]
     },
     "execution_count": 37,
     "metadata": {},
     "output_type": "execute_result"
    }
   ],
   "source": [
    "    #Intervalo de confianza de algunas de las variables numéricas del dataset\n",
    "\n",
    "st.t.interval(alpha=0.95, df=len(datos_age)-1, loc=np.mean(datos_age), scale=st.sem(datos_age))\n",
    "\n",
    "#El resultado que nos da nos indica que hay un 95% de probabilidades de que un número aleatorio de este conjunto de datos(edad) esté dentro de ese rango."
   ]
  }
 ],
 "metadata": {
  "kernelspec": {
   "display_name": "Python 3.9.7 ('base')",
   "language": "python",
   "name": "python3"
  },
  "language_info": {
   "codemirror_mode": {
    "name": "ipython",
    "version": 3
   },
   "file_extension": ".py",
   "mimetype": "text/x-python",
   "name": "python",
   "nbconvert_exporter": "python",
   "pygments_lexer": "ipython3",
   "version": "3.9.7"
  },
  "orig_nbformat": 4,
  "vscode": {
   "interpreter": {
    "hash": "7ad202eda4b463b15866ae6aadf94c3d2752d74520fedda13d68ef6e8aba5314"
   }
  }
 },
 "nbformat": 4,
 "nbformat_minor": 2
}
