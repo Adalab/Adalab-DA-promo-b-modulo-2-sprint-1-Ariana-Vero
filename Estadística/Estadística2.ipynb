{
 "cells": [
  {
   "cell_type": "markdown",
   "metadata": {},
   "source": [
    "Los objetivos de hoy son:\n",
    "- Extraer los siguentes estadísiticos del conjunto de datos para varias de las varibles disponibles:\n",
    "- Utilizando métodos de pandas: media, mediana, moda, máximo y mínimo\n",
    "- Percentiles 25, 75\n",
    "- Rango Intercualtílico\n",
    "- Boxplot de algunas variables\n",
    "- Tabla de frecuencias:\n",
    "    - Variables cualitativas\n",
    "    - Variables cuantitativas\n",
    "    - Frecuencia acumulada\n",
    "    - Representación de al menos una tabla de frecuencias\n",
    "- Interpretación de los resultados.\n",
    "- Ahora interpreta los resultados obtenidos de los diferentes estadísticos estudiados haciendo hincapié en aspectos interesantes de tus datos y explica lo mejor posible la naturaleza de los mismos."
   ]
  },
  {
   "cell_type": "code",
   "execution_count": 1,
   "metadata": {},
   "outputs": [],
   "source": [
    "import numpy as np\n",
    "import pandas as pd\n",
    "from scipy import stats"
   ]
  },
  {
   "cell_type": "code",
   "execution_count": 3,
   "metadata": {},
   "outputs": [
    {
     "data": {
      "text/html": [
       "<div>\n",
       "<style scoped>\n",
       "    .dataframe tbody tr th:only-of-type {\n",
       "        vertical-align: middle;\n",
       "    }\n",
       "\n",
       "    .dataframe tbody tr th {\n",
       "        vertical-align: top;\n",
       "    }\n",
       "\n",
       "    .dataframe thead th {\n",
       "        text-align: right;\n",
       "    }\n",
       "</style>\n",
       "<table border=\"1\" class=\"dataframe\">\n",
       "  <thead>\n",
       "    <tr style=\"text-align: right;\">\n",
       "      <th></th>\n",
       "      <th>gender</th>\n",
       "      <th>age</th>\n",
       "      <th>hypertension</th>\n",
       "      <th>heart_disease</th>\n",
       "      <th>ever_married</th>\n",
       "      <th>work_type</th>\n",
       "      <th>Residence_type</th>\n",
       "      <th>avg_glucose_level</th>\n",
       "      <th>bmi</th>\n",
       "      <th>smoking_status</th>\n",
       "      <th>stroke</th>\n",
       "    </tr>\n",
       "  </thead>\n",
       "  <tbody>\n",
       "    <tr>\n",
       "      <th>0</th>\n",
       "      <td>Female</td>\n",
       "      <td>61.0</td>\n",
       "      <td>0</td>\n",
       "      <td>0</td>\n",
       "      <td>Yes</td>\n",
       "      <td>Self-employed</td>\n",
       "      <td>Rural</td>\n",
       "      <td>202.21</td>\n",
       "      <td>31.555602</td>\n",
       "      <td>never smoked</td>\n",
       "      <td>1</td>\n",
       "    </tr>\n",
       "  </tbody>\n",
       "</table>\n",
       "</div>"
      ],
      "text/plain": [
       "   gender   age  hypertension  heart_disease ever_married      work_type  \\\n",
       "0  Female  61.0             0              0          Yes  Self-employed   \n",
       "\n",
       "  Residence_type  avg_glucose_level        bmi smoking_status  stroke  \n",
       "0          Rural             202.21  31.555602   never smoked       1  "
      ]
     },
     "execution_count": 3,
     "metadata": {},
     "output_type": "execute_result"
    }
   ],
   "source": [
    "df = pd.read_csv('stroke_brain_data.csv')\n",
    "df.head(1)"
   ]
  },
  {
   "cell_type": "code",
   "execution_count": 18,
   "metadata": {},
   "outputs": [
    {
     "data": {
      "text/html": [
       "<div>\n",
       "<style scoped>\n",
       "    .dataframe tbody tr th:only-of-type {\n",
       "        vertical-align: middle;\n",
       "    }\n",
       "\n",
       "    .dataframe tbody tr th {\n",
       "        vertical-align: top;\n",
       "    }\n",
       "\n",
       "    .dataframe thead th {\n",
       "        text-align: right;\n",
       "    }\n",
       "</style>\n",
       "<table border=\"1\" class=\"dataframe\">\n",
       "  <thead>\n",
       "    <tr style=\"text-align: right;\">\n",
       "      <th></th>\n",
       "      <th>bmi</th>\n",
       "    </tr>\n",
       "  </thead>\n",
       "  <tbody>\n",
       "    <tr>\n",
       "      <th>0</th>\n",
       "      <td>31.555602</td>\n",
       "    </tr>\n",
       "    <tr>\n",
       "      <th>1</th>\n",
       "      <td>30.242937</td>\n",
       "    </tr>\n",
       "    <tr>\n",
       "      <th>2</th>\n",
       "      <td>30.698951</td>\n",
       "    </tr>\n",
       "    <tr>\n",
       "      <th>3</th>\n",
       "      <td>33.808410</td>\n",
       "    </tr>\n",
       "    <tr>\n",
       "      <th>4</th>\n",
       "      <td>31.378534</td>\n",
       "    </tr>\n",
       "    <tr>\n",
       "      <th>...</th>\n",
       "      <td>...</td>\n",
       "    </tr>\n",
       "    <tr>\n",
       "      <th>196</th>\n",
       "      <td>29.756631</td>\n",
       "    </tr>\n",
       "    <tr>\n",
       "      <th>197</th>\n",
       "      <td>31.124172</td>\n",
       "    </tr>\n",
       "    <tr>\n",
       "      <th>198</th>\n",
       "      <td>31.798304</td>\n",
       "    </tr>\n",
       "    <tr>\n",
       "      <th>199</th>\n",
       "      <td>29.951301</td>\n",
       "    </tr>\n",
       "    <tr>\n",
       "      <th>200</th>\n",
       "      <td>29.097421</td>\n",
       "    </tr>\n",
       "  </tbody>\n",
       "</table>\n",
       "<p>201 rows × 1 columns</p>\n",
       "</div>"
      ],
      "text/plain": [
       "           bmi\n",
       "0    31.555602\n",
       "1    30.242937\n",
       "2    30.698951\n",
       "3    33.808410\n",
       "4    31.378534\n",
       "..         ...\n",
       "196  29.756631\n",
       "197  31.124172\n",
       "198  31.798304\n",
       "199  29.951301\n",
       "200  29.097421\n",
       "\n",
       "[201 rows x 1 columns]"
      ]
     },
     "execution_count": 18,
     "metadata": {},
     "output_type": "execute_result"
    }
   ],
   "source": [
    "df_bmi = pd.DataFrame(df['bmi'])\n",
    "df_bmi\n"
   ]
  },
  {
   "cell_type": "code",
   "execution_count": 10,
   "metadata": {},
   "outputs": [
    {
     "data": {
      "text/plain": [
       "array([31.56, 30.24, 30.7 , 33.81, 31.38, 33.48, 30.04, 28.32, 28.4 ,\n",
       "       29.14, 31.6 , 29.32, 28.32, 27.95, 30.49, 29.29, 30.  , 30.2 ,\n",
       "       28.2 , 32.12, 29.21, 28.07, 29.86, 29.58, 27.97, 27.94, 28.95,\n",
       "       18.72, 29.14, 29.79, 28.76, 27.09, 27.28, 28.08, 32.95, 27.24,\n",
       "       28.74, 31.68, 28.07, 30.76, 29.7 , 33.08, 29.97, 30.86, 33.74,\n",
       "       30.07, 31.7 , 30.  , 31.2 , 29.85, 20.02, 33.12, 28.98, 26.42,\n",
       "       29.02, 29.79, 27.  , 30.07, 28.38, 30.38, 22.56, 30.2 , 18.9 ,\n",
       "       33.75, 29.61, 28.6 , 20.51, 31.61, 32.27, 31.9 , 27.41, 29.88,\n",
       "       28.55, 27.17, 28.9 , 32.29, 33.7 , 19.48, 33.75, 27.24, 29.28,\n",
       "       30.72, 32.06, 28.33, 28.62, 30.01, 35.19, 30.27, 30.01, 30.54,\n",
       "       31.38, 29.9 , 30.62, 29.19, 33.17, 29.75, 31.38, 29.28, 32.13,\n",
       "       20.26, 26.31, 28.  , 29.08, 32.5 , 31.9 , 17.9 , 29.83, 31.98,\n",
       "       26.28, 29.66, 28.94, 26.59, 30.19, 27.96, 31.79, 29.98, 30.57,\n",
       "       31.48, 28.02, 28.03, 32.44, 30.56, 30.5 , 27.41, 30.16, 33.9 ,\n",
       "       19.03, 33.54, 33.23, 25.93, 29.88, 30.35, 31.81, 33.48, 31.43,\n",
       "       29.93, 30.11, 30.78, 30.98, 28.37, 30.75, 31.75, 30.07, 31.72,\n",
       "       29.95, 30.55, 31.72, 30.69, 29.21, 28.97, 29.95, 33.48, 29.44,\n",
       "       29.1 , 31.84, 33.12, 29.75, 32.49, 30.06, 30.19, 29.99, 19.02,\n",
       "       29.7 , 26.53, 31.86, 18.8 , 18.72, 25.65, 33.47, 29.6 , 31.1 ,\n",
       "       29.79, 19.43, 28.4 , 29.21, 31.23, 29.23, 31.75, 31.5 , 26.53,\n",
       "       26.44, 32.13, 20.12, 26.53, 27.33, 31.75, 29.42, 33.18, 31.18,\n",
       "       28.64, 30.87, 29.7 , 30.7 , 18.8 , 30.2 , 32.72, 29.76, 31.12,\n",
       "       31.8 , 29.95, 29.1 ])"
      ]
     },
     "execution_count": 10,
     "metadata": {},
     "output_type": "execute_result"
    }
   ],
   "source": [
    "datos_bmi = np.round(np.array(df['bmi']), decimals=2, out=None)\n",
    "datos_bmi\n",
    "\n"
   ]
  },
  {
   "cell_type": "code",
   "execution_count": 15,
   "metadata": {},
   "outputs": [
    {
     "name": "stdout",
     "output_type": "stream",
     "text": [
      "media =  29.336915422885568\n"
     ]
    },
    {
     "ename": "AttributeError",
     "evalue": "'numpy.ndarray' object has no attribute 'median'",
     "output_type": "error",
     "traceback": [
      "\u001b[1;31m---------------------------------------------------------------------------\u001b[0m",
      "\u001b[1;31mAttributeError\u001b[0m                            Traceback (most recent call last)",
      "\u001b[1;32mc:\\Users\\arian\\Desktop\\Módulo 2\\PP-ARIANA-VERO\\DA-promo-b-modulo-2-sprint-1-Ariana-Vero\\Estadística\\Estadística2.ipynb Celda 5\u001b[0m in \u001b[0;36m<cell line: 7>\u001b[1;34m()\u001b[0m\n\u001b[0;32m      <a href='vscode-notebook-cell:/c%3A/Users/arian/Desktop/M%C3%B3dulo%202/PP-ARIANA-VERO/DA-promo-b-modulo-2-sprint-1-Ariana-Vero/Estad%C3%ADstica/Estad%C3%ADstica2.ipynb#W5sZmlsZQ%3D%3D?line=3'>4</a>\u001b[0m media \u001b[39m=\u001b[39m datos_bmi\u001b[39m.\u001b[39mmean()\n\u001b[0;32m      <a href='vscode-notebook-cell:/c%3A/Users/arian/Desktop/M%C3%B3dulo%202/PP-ARIANA-VERO/DA-promo-b-modulo-2-sprint-1-Ariana-Vero/Estad%C3%ADstica/Estad%C3%ADstica2.ipynb#W5sZmlsZQ%3D%3D?line=4'>5</a>\u001b[0m \u001b[39mprint\u001b[39m(\u001b[39m'\u001b[39m\u001b[39mmedia = \u001b[39m\u001b[39m'\u001b[39m, media)\n\u001b[1;32m----> <a href='vscode-notebook-cell:/c%3A/Users/arian/Desktop/M%C3%B3dulo%202/PP-ARIANA-VERO/DA-promo-b-modulo-2-sprint-1-Ariana-Vero/Estad%C3%ADstica/Estad%C3%ADstica2.ipynb#W5sZmlsZQ%3D%3D?line=6'>7</a>\u001b[0m mediana \u001b[39m=\u001b[39m datos_bmi\u001b[39m.\u001b[39;49mmedian()\n\u001b[0;32m      <a href='vscode-notebook-cell:/c%3A/Users/arian/Desktop/M%C3%B3dulo%202/PP-ARIANA-VERO/DA-promo-b-modulo-2-sprint-1-Ariana-Vero/Estad%C3%ADstica/Estad%C3%ADstica2.ipynb#W5sZmlsZQ%3D%3D?line=7'>8</a>\u001b[0m \u001b[39mprint\u001b[39m(\u001b[39m'\u001b[39m\u001b[39mmediana = \u001b[39m\u001b[39m'\u001b[39m, mediana)\n\u001b[0;32m     <a href='vscode-notebook-cell:/c%3A/Users/arian/Desktop/M%C3%B3dulo%202/PP-ARIANA-VERO/DA-promo-b-modulo-2-sprint-1-Ariana-Vero/Estad%C3%ADstica/Estad%C3%ADstica2.ipynb#W5sZmlsZQ%3D%3D?line=9'>10</a>\u001b[0m moda \u001b[39m=\u001b[39m datos_bmi\u001b[39m.\u001b[39mmode()\n",
      "\u001b[1;31mAttributeError\u001b[0m: 'numpy.ndarray' object has no attribute 'median'"
     ]
    }
   ],
   "source": [
    "#Extraer los siguentes estadísiticos del conjunto de datos para varias de las varibles disponibles:\n",
    "#Utilizando métodos de pandas: media, mediana, moda, máximo y mínimo\n",
    "\n",
    "media = datos_bmi.mean()\n",
    "print('media = ', media)\n",
    "\n",
    "mediana = datos_bmi.median()\n",
    "print('mediana = ', mediana)\n",
    "\n",
    "moda = datos_bmi.mode()\n",
    "print('moda = ', moda)\n",
    "\n",
    "maximo = datos_bmi.max()\n",
    "print('maximo = ', maximo)\n",
    "\n",
    "minimo = datos_bmi.min()\n",
    "print('minimo = ', minimo)"
   ]
  },
  {
   "cell_type": "code",
   "execution_count": null,
   "metadata": {},
   "outputs": [],
   "source": []
  },
  {
   "cell_type": "code",
   "execution_count": null,
   "metadata": {},
   "outputs": [],
   "source": [
    "- Extraer los siguentes estadísiticos del conjunto de datos para varias de las varibles disponibles:\n",
    "- Utilizando métodos de pandas: media, mediana, moda, máximo y mínimo\n",
    "- Percentiles 25, 75\n",
    "- Rango Intercualtílico\n",
    "- Boxplot de algunas variables\n",
    "- Tabla de frecuencias:\n",
    "    - Variables cualitativas\n",
    "    - Variables cuantitativas\n",
    "    - Frecuencia acumulada\n",
    "    - Representación de al menos una tabla de frecuencias\n",
    "- Interpretación de los resultados.\n",
    "- Ahora interpreta los resultados obtenidos de los diferentes estadísticos estudiados haciendo hincapié en aspectos interesantes de tus datos y explica lo mejor posible la naturaleza de los mismos."
   ]
  }
 ],
 "metadata": {
  "kernelspec": {
   "display_name": "Python 3.10.5 64-bit",
   "language": "python",
   "name": "python3"
  },
  "language_info": {
   "codemirror_mode": {
    "name": "ipython",
    "version": 3
   },
   "file_extension": ".py",
   "mimetype": "text/x-python",
   "name": "python",
   "nbconvert_exporter": "python",
   "pygments_lexer": "ipython3",
   "version": "3.10.5"
  },
  "orig_nbformat": 4,
  "vscode": {
   "interpreter": {
    "hash": "6c417e8ec6dca726918e9382ccd5f9a276f75c00fe45ac2c66804bdd5db60888"
   }
  }
 },
 "nbformat": 4,
 "nbformat_minor": 2
}
