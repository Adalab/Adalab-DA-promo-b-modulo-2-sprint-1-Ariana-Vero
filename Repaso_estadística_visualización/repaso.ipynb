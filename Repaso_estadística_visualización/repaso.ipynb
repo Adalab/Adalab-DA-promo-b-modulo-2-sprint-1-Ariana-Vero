{
 "cells": [
  {
   "cell_type": "code",
   "execution_count": 1,
   "metadata": {},
   "outputs": [],
   "source": [
    "import numpy as np\n",
    "import pandas as pd\n",
    "from scipy import stats\n",
    "from scipy.stats import skew\n",
    "import scipy.stats as st\n",
    "import matplotlib.pyplot as plt"
   ]
  },
  {
   "cell_type": "code",
   "execution_count": 3,
   "metadata": {},
   "outputs": [
    {
     "data": {
      "text/html": [
       "<div>\n",
       "<style scoped>\n",
       "    .dataframe tbody tr th:only-of-type {\n",
       "        vertical-align: middle;\n",
       "    }\n",
       "\n",
       "    .dataframe tbody tr th {\n",
       "        vertical-align: top;\n",
       "    }\n",
       "\n",
       "    .dataframe thead th {\n",
       "        text-align: right;\n",
       "    }\n",
       "</style>\n",
       "<table border=\"1\" class=\"dataframe\">\n",
       "  <thead>\n",
       "    <tr style=\"text-align: right;\">\n",
       "      <th></th>\n",
       "      <th>gender</th>\n",
       "      <th>age</th>\n",
       "      <th>hypertension</th>\n",
       "      <th>heart_disease</th>\n",
       "      <th>ever_married</th>\n",
       "      <th>work_type</th>\n",
       "      <th>Residence_type</th>\n",
       "      <th>avg_glucose_level</th>\n",
       "      <th>bmi</th>\n",
       "      <th>smoking_status</th>\n",
       "      <th>stroke</th>\n",
       "    </tr>\n",
       "  </thead>\n",
       "  <tbody>\n",
       "    <tr>\n",
       "      <th>0</th>\n",
       "      <td>Female</td>\n",
       "      <td>61.0</td>\n",
       "      <td>0</td>\n",
       "      <td>0</td>\n",
       "      <td>Yes</td>\n",
       "      <td>Self-employed</td>\n",
       "      <td>Rural</td>\n",
       "      <td>202.21</td>\n",
       "      <td>31.555602</td>\n",
       "      <td>never smoked</td>\n",
       "      <td>1</td>\n",
       "    </tr>\n",
       "  </tbody>\n",
       "</table>\n",
       "</div>"
      ],
      "text/plain": [
       "   gender   age  hypertension  heart_disease ever_married      work_type  \\\n",
       "0  Female  61.0             0              0          Yes  Self-employed   \n",
       "\n",
       "  Residence_type  avg_glucose_level        bmi smoking_status  stroke  \n",
       "0          Rural             202.21  31.555602   never smoked       1  "
      ]
     },
     "execution_count": 3,
     "metadata": {},
     "output_type": "execute_result"
    }
   ],
   "source": [
    "df = pd.read_csv('../Estadística/stroke_brain_data.csv')\n",
    "df.head(1)"
   ]
  },
  {
   "cell_type": "code",
   "execution_count": 4,
   "metadata": {},
   "outputs": [
    {
     "data": {
      "text/plain": [
       "array([61.  , 59.  , 78.  , 57.  , 58.  , 59.  , 63.  , 75.  , 76.  ,\n",
       "       78.  , 63.  , 78.  , 75.  , 76.  , 51.  , 66.  , 58.  , 58.  ,\n",
       "       76.  , 72.  , 78.  , 75.  , 38.  , 65.  , 79.  , 76.  , 71.  ,\n",
       "        1.32, 79.  , 64.  , 79.  , 78.  , 80.  , 77.  , 61.  , 79.  ,\n",
       "       74.  , 76.  , 74.  , 71.  , 34.  , 76.  , 63.  , 61.  , 54.  ,\n",
       "       40.  , 48.  , 61.  , 31.  , 43.  ,  9.  , 52.  , 77.  , 17.  ,\n",
       "       71.  , 35.  , 23.  , 40.  , 23.  , 71.  , 13.  , 73.  ,  3.  ,\n",
       "       51.  , 35.  , 73.  ,  6.  , 46.  , 71.  , 54.  , 80.  , 49.  ,\n",
       "       72.  , 25.  , 27.  , 51.  , 48.  ,  7.  , 61.  , 25.  , 30.  ,\n",
       "       71.  , 47.  , 76.  , 29.  , 48.  , 57.  , 58.  , 45.  , 66.  ,\n",
       "       59.  , 34.  , 69.  , 66.  , 48.  , 32.  , 60.  , 30.  , 60.  ,\n",
       "       10.  , 20.  , 77.  , 67.  , 42.  , 60.  ,  0.48, 35.  , 50.  ,\n",
       "       19.  , 77.  , 67.  , 20.  , 49.  , 77.  , 52.  , 43.  , 69.  ,\n",
       "       34.  , 78.  , 76.  , 62.  , 71.  , 79.  , 79.  , 54.  , 73.  ,\n",
       "        5.  , 38.  , 72.  , 14.  , 50.  , 29.  , 75.  , 68.  , 33.  ,\n",
       "       63.  , 56.  , 70.  , 71.  , 73.  , 67.  , 62.  , 38.  , 47.  ,\n",
       "       42.  , 58.  , 44.  , 42.  , 78.  , 68.  , 39.  , 60.  , 31.  ,\n",
       "       67.  , 52.  , 53.  , 33.  , 53.  , 49.  , 52.  , 41.  ,  1.88,\n",
       "       34.  , 16.  , 45.  ,  1.08,  1.8 , 13.  , 61.  , 37.  , 32.  ,\n",
       "       79.  ,  8.  , 75.  , 79.  , 69.  , 31.  , 82.  , 32.  , 17.  ,\n",
       "       18.  , 59.  ,  3.  , 20.  , 78.  , 52.  , 65.  , 59.  , 78.  ,\n",
       "       70.  , 70.  , 37.  , 72.  ,  1.32, 58.  , 31.  , 41.  , 40.  ,\n",
       "       45.  , 40.  , 80.  ])"
      ]
     },
     "execution_count": 4,
     "metadata": {},
     "output_type": "execute_result"
    }
   ],
   "source": [
    "datos_age = np.round(np.array(df['age']), decimals=2, out=None)\n",
    "datos_age"
   ]
  },
  {
   "cell_type": "code",
   "execution_count": 5,
   "metadata": {},
   "outputs": [
    {
     "data": {
      "text/plain": [
       "array([31.56, 30.24, 30.7 , 33.81, 31.38, 33.48, 30.04, 28.32, 28.4 ,\n",
       "       29.14, 31.6 , 29.32, 28.32, 27.95, 30.49, 29.29, 30.  , 30.2 ,\n",
       "       28.2 , 32.12, 29.21, 28.07, 29.86, 29.58, 27.97, 27.94, 28.95,\n",
       "       18.72, 29.14, 29.79, 28.76, 27.09, 27.28, 28.08, 32.95, 27.24,\n",
       "       28.74, 31.68, 28.07, 30.76, 29.7 , 33.08, 29.97, 30.86, 33.74,\n",
       "       30.07, 31.7 , 30.  , 31.2 , 29.85, 20.02, 33.12, 28.98, 26.42,\n",
       "       29.02, 29.79, 27.  , 30.07, 28.38, 30.38, 22.56, 30.2 , 18.9 ,\n",
       "       33.75, 29.61, 28.6 , 20.51, 31.61, 32.27, 31.9 , 27.41, 29.88,\n",
       "       28.55, 27.17, 28.9 , 32.29, 33.7 , 19.48, 33.75, 27.24, 29.28,\n",
       "       30.72, 32.06, 28.33, 28.62, 30.01, 35.19, 30.27, 30.01, 30.54,\n",
       "       31.38, 29.9 , 30.62, 29.19, 33.17, 29.75, 31.38, 29.28, 32.13,\n",
       "       20.26, 26.31, 28.  , 29.08, 32.5 , 31.9 , 17.9 , 29.83, 31.98,\n",
       "       26.28, 29.66, 28.94, 26.59, 30.19, 27.96, 31.79, 29.98, 30.57,\n",
       "       31.48, 28.02, 28.03, 32.44, 30.56, 30.5 , 27.41, 30.16, 33.9 ,\n",
       "       19.03, 33.54, 33.23, 25.93, 29.88, 30.35, 31.81, 33.48, 31.43,\n",
       "       29.93, 30.11, 30.78, 30.98, 28.37, 30.75, 31.75, 30.07, 31.72,\n",
       "       29.95, 30.55, 31.72, 30.69, 29.21, 28.97, 29.95, 33.48, 29.44,\n",
       "       29.1 , 31.84, 33.12, 29.75, 32.49, 30.06, 30.19, 29.99, 19.02,\n",
       "       29.7 , 26.53, 31.86, 18.8 , 18.72, 25.65, 33.47, 29.6 , 31.1 ,\n",
       "       29.79, 19.43, 28.4 , 29.21, 31.23, 29.23, 31.75, 31.5 , 26.53,\n",
       "       26.44, 32.13, 20.12, 26.53, 27.33, 31.75, 29.42, 33.18, 31.18,\n",
       "       28.64, 30.87, 29.7 , 30.7 , 18.8 , 30.2 , 32.72, 29.76, 31.12,\n",
       "       31.8 , 29.95, 29.1 ])"
      ]
     },
     "execution_count": 5,
     "metadata": {},
     "output_type": "execute_result"
    }
   ],
   "source": [
    "datos_bmi = np.round(np.array(df['bmi']), decimals=2, out=None)\n",
    "datos_bmi"
   ]
  },
  {
   "cell_type": "code",
   "execution_count": null,
   "metadata": {},
   "outputs": [],
   "source": [
    "#Al igual que en los ejercicios de pair programming de estadística, deberéis elegir un set de datos, puede ser de cualquier tipo. \n",
    "#El objetivo de este pair programming es:"
   ]
  },
  {
   "cell_type": "code",
   "execution_count": 16,
   "metadata": {},
   "outputs": [
    {
     "name": "stdout",
     "output_type": "stream",
     "text": [
      "Size:  (201, 11)\n",
      "---------------------------\n",
      "Nulos:       gender    age  hypertension  heart_disease  ever_married  work_type  \\\n",
      "0     False  False         False          False         False      False   \n",
      "1     False  False         False          False         False      False   \n",
      "2     False  False         False          False         False      False   \n",
      "3     False  False         False          False         False      False   \n",
      "4     False  False         False          False         False      False   \n",
      "..      ...    ...           ...            ...           ...        ...   \n",
      "196   False  False         False          False         False      False   \n",
      "197   False  False         False          False         False      False   \n",
      "198   False  False         False          False         False      False   \n",
      "199   False  False         False          False         False      False   \n",
      "200   False  False         False          False         False      False   \n",
      "\n",
      "     Residence_type  avg_glucose_level    bmi  smoking_status  stroke  \n",
      "0             False              False  False           False   False  \n",
      "1             False              False  False           False   False  \n",
      "2             False              False  False           False   False  \n",
      "3             False              False  False           False   False  \n",
      "4             False              False  False           False   False  \n",
      "..              ...                ...    ...             ...     ...  \n",
      "196           False              False  False           False   False  \n",
      "197           False              False  False           False   False  \n",
      "198           False              False  False           False   False  \n",
      "199           False              False  False           False   False  \n",
      "200           False              False  False           False   False  \n",
      "\n",
      "[201 rows x 11 columns]\n",
      "---------------------------\n",
      "Columnas:  Index(['gender', 'age', 'hypertension', 'heart_disease', 'ever_married',\n",
      "       'work_type', 'Residence_type', 'avg_glucose_level', 'bmi',\n",
      "       'smoking_status', 'stroke'],\n",
      "      dtype='object')\n",
      "---------------------------\n",
      "<class 'pandas.core.frame.DataFrame'>\n",
      "RangeIndex: 201 entries, 0 to 200\n",
      "Data columns (total 11 columns):\n",
      " #   Column             Non-Null Count  Dtype  \n",
      "---  ------             --------------  -----  \n",
      " 0   gender             201 non-null    object \n",
      " 1   age                201 non-null    float64\n",
      " 2   hypertension       201 non-null    int64  \n",
      " 3   heart_disease      201 non-null    int64  \n",
      " 4   ever_married       201 non-null    object \n",
      " 5   work_type          201 non-null    object \n",
      " 6   Residence_type     201 non-null    object \n",
      " 7   avg_glucose_level  201 non-null    float64\n",
      " 8   bmi                201 non-null    float64\n",
      " 9   smoking_status     201 non-null    object \n",
      " 10  stroke             201 non-null    int64  \n",
      "dtypes: float64(3), int64(3), object(5)\n",
      "memory usage: 17.4+ KB\n",
      "Col. Categóricas:  None\n",
      "---------------------------\n",
      "Col. Numéricas:                age  hypertension  heart_disease  avg_glucose_level         bmi  \\\n",
      "count  201.000000    201.000000     201.000000         201.000000  201.000000   \n",
      "mean    52.049154      0.233831       0.164179         126.724627   29.336870   \n",
      "std     22.276181      0.424323       0.371363          59.240322    3.363098   \n",
      "min      0.480000      0.000000       0.000000          57.520000   17.899295   \n",
      "25%     37.000000      0.000000       0.000000          81.430000   28.397893   \n",
      "50%     58.000000      0.000000       0.000000          99.870000   29.948147   \n",
      "75%     71.000000      0.000000       0.000000         191.790000   31.378534   \n",
      "max     82.000000      1.000000       1.000000         260.850000   35.188605   \n",
      "\n",
      "           stroke  \n",
      "count  201.000000  \n",
      "mean     0.199005  \n",
      "std      0.400249  \n",
      "min      0.000000  \n",
      "25%      0.000000  \n",
      "50%      0.000000  \n",
      "75%      0.000000  \n",
      "max      1.000000  \n",
      "---------------------------\n",
      "Index:  RangeIndex(start=0, stop=201, step=1)\n",
      "---------------------------\n",
      "Duplicados:  0\n"
     ]
    }
   ],
   "source": [
    "#Hacer una exploración inicial del dataframe.\n",
    "    #¿Cuántas filas tiene?\n",
    "    #¿Cuántas nulos tiene?\n",
    "    #¿Y duplicados?\n",
    "    #¿Qué tipo de datos tenemos en el dataframe?\n",
    "    #etc.\n",
    "\n",
    "print('Size: ',df.shape)\n",
    "print('---------------------------')\n",
    "print('Nulos: ',df.isnull())\n",
    "print('---------------------------')\n",
    "print('Columnas: ',df.columns)\n",
    "print('---------------------------')\n",
    "print('Col. Categóricas: ',df.info())\n",
    "print('---------------------------')\n",
    "print('Col. Numéricas: ',df.describe())\n",
    "print('---------------------------')\n",
    "print('Index: ',df.index)\n",
    "print('---------------------------')\n",
    "print('Duplicados: ',df.duplicated().sum())\n",
    "\n"
   ]
  },
  {
   "cell_type": "code",
   "execution_count": null,
   "metadata": {},
   "outputs": [],
   "source": [
    "#Plantead una serie de preguntas como las que fuimos contestando en la clase invertida.\n",
    "    #- ¿Cuál es el valor más típico del precio de la vivienda en nuestro conjunto de datos?\n",
    "    #- ¿Cuál es la casa más barata? ¿Y la más cara? \n",
    "    #- ¿Cuál es el precio medio de las casa en Melbourne? \n",
    "    #- Cuál es la varianza y la desviación típica de nuetsros datos?\n",
    "    #- ¿Tenemos outliers en nuestros datos?\n",
    "    #- ¿Hay correlación entre la edad y el IMC para un infarto cerebral?\n",
    "    #- "
   ]
  },
  {
   "cell_type": "code",
   "execution_count": null,
   "metadata": {},
   "outputs": [],
   "source": [
    "#Contestad a las preguntas planteadas usando los principales estadísticos que hemos aprendido y gráficas que mejor se ajusten."
   ]
  }
 ],
 "metadata": {
  "kernelspec": {
   "display_name": "Python 3.9.7 ('base')",
   "language": "python",
   "name": "python3"
  },
  "language_info": {
   "codemirror_mode": {
    "name": "ipython",
    "version": 3
   },
   "file_extension": ".py",
   "mimetype": "text/x-python",
   "name": "python",
   "nbconvert_exporter": "python",
   "pygments_lexer": "ipython3",
   "version": "3.9.7"
  },
  "orig_nbformat": 4,
  "vscode": {
   "interpreter": {
    "hash": "7ad202eda4b463b15866ae6aadf94c3d2752d74520fedda13d68ef6e8aba5314"
   }
  }
 },
 "nbformat": 4,
 "nbformat_minor": 2
}
