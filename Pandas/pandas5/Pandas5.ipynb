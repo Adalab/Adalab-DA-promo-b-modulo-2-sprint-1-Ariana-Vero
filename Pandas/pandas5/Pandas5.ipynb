{
 "cells": [
  {
   "cell_type": "markdown",
   "metadata": {},
   "source": [
    "En este ejercicio pondremos en práctica los conceptos básicos para juntar varios csv que compartan información.\n",
    "Trabajaremos con tres ficheros diferentes:"
   ]
  },
  {
   "cell_type": "markdown",
   "metadata": {},
   "source": [
    "-El csv que creamos en el ejercicio de pair programming Pandas IV, dónde recordamos eliminamos ciertas columnas que no eran necesarias, y habíamos creado nuevas.\n",
    "\n",
    "-El csv llamado attacks_historico donde tenemos información sobre los ataques de tiburón previos al año 1800.\n",
    "\n",
    "-El csv llamado attacks_adicional donde tenemos información sobre los ataques de tiburón."
   ]
  },
  {
   "cell_type": "markdown",
   "metadata": {},
   "source": [
    "El principal objetivo de este ejercicio de pair programming es acabar teniendo un único DataFrame con toda la información contenida en los tres csv anteriores."
   ]
  },
  {
   "cell_type": "markdown",
   "metadata": {},
   "source": [
    "Para llevar a cabo nuestro objetivo tendréis que seguir los siguientes pasos:"
   ]
  },
  {
   "cell_type": "code",
   "execution_count": 1,
   "metadata": {},
   "outputs": [],
   "source": [
    "import pandas as pd\n",
    "import numpy as np"
   ]
  },
  {
   "cell_type": "code",
   "execution_count": null,
   "metadata": {},
   "outputs": [],
   "source": [
    "#EJERCICIO 1: Cargad los tres ficheros nombrados anteriormente y los exploramos para familizarizarnos con ellos \n",
    "# y saber que información tienen en común y debatir con tu compañera como podríamos juntar toda la información.\n",
    "\n",
    "df1 =pd.read_csv('df_pandas4.csv')\n",
    "df1.head(1)"
   ]
  },
  {
   "cell_type": "code",
   "execution_count": null,
   "metadata": {},
   "outputs": [],
   "source": [
    "df2 =pd.read_csv('attacks_historico.csv')\n",
    "df2.head(1)"
   ]
  },
  {
   "cell_type": "code",
   "execution_count": null,
   "metadata": {},
   "outputs": [],
   "source": [
    "df3 =pd.read_csv('attacks_adicional.csv')\n",
    "df3.head(1)"
   ]
  },
  {
   "cell_type": "code",
   "execution_count": null,
   "metadata": {},
   "outputs": [],
   "source": [
    "#EJERCICIO 2: Chequead que los nombres de las columnas que sean iguales entre dataframes son iguales. ¿Están todas en minúsculas? ¿Tienen espacios? \n",
    "# En caso de que no sean todas iguales unificad el nombre de las columnas."
   ]
  },
  {
   "cell_type": "code",
   "execution_count": null,
   "metadata": {},
   "outputs": [],
   "source": [
    "#Reempalzamos mayúsculas por minúsculas y espacios por guión bajo en el dataset 1\n",
    "\n",
    "nuevas_columnas = {col: col.lower().replace(\" \", \"_\") for col in df1.columns}\n",
    "nuevas_columnas"
   ]
  },
  {
   "cell_type": "code",
   "execution_count": null,
   "metadata": {},
   "outputs": [],
   "source": [
    "df1.rename(columns = nuevas_columnas, inplace = True)\n",
    "df1.head(1)"
   ]
  },
  {
   "cell_type": "code",
   "execution_count": null,
   "metadata": {},
   "outputs": [],
   "source": [
    "#Reempalzamos mayúsculas por minúsculas y espacios por guión bajo en el dataset 2\n",
    "\n",
    "nuevas_columnas1 = {col: col.lower().replace(\" \", \"_\") for col in df2.columns}\n",
    "nuevas_columnas1"
   ]
  },
  {
   "cell_type": "code",
   "execution_count": null,
   "metadata": {},
   "outputs": [],
   "source": [
    "\n",
    "df2.rename(columns = nuevas_columnas, inplace = True)\n",
    "df2.head(1)"
   ]
  },
  {
   "cell_type": "code",
   "execution_count": null,
   "metadata": {},
   "outputs": [],
   "source": [
    "#Reempalzamos mayúsculas por minúsculas y espacios por guión bajo en el dataset 3\n",
    "\n",
    "nuevas_columnas2 = {col: col.lower().replace(\" \", \"_\") for col in df3.columns}\n",
    "nuevas_columnas2"
   ]
  },
  {
   "cell_type": "code",
   "execution_count": null,
   "metadata": {},
   "outputs": [],
   "source": [
    "df3.rename(columns = nuevas_columnas1, inplace = True)\n",
    "df3.head(1)"
   ]
  },
  {
   "cell_type": "code",
   "execution_count": null,
   "metadata": {},
   "outputs": [],
   "source": [
    "#EJERCICIO 3: En este momento nos habremos dado cuenta que el DataFrame que generamos en el pair programming Pandas IV es similar al DataFrame de los datos historicos. Si recordamos, eliminamos algunas columnas en la sesión III que no eran útiles, pero esas columnas están todavía en el histórico. Si no fuera por eso podríamos unir esos dataframes. Realizad los cambios que creais necesarios para que los dataframes sean iguales \n",
    "# y luego juntadlos usando el mejor método."
   ]
  },
  {
   "cell_type": "code",
   "execution_count": null,
   "metadata": {},
   "outputs": [],
   "source": [
    "#EJERCICIO 4: Es el momento de unir la información de todos los ataques de tiburón que acabamos de crear con el DataFrame de información adicional. \n",
    "# Debatid que método es el más correcto para unir toda esta información y ejecutadlo.\n",
    "#📌 NOTA Cuando hagáis la unión considerad que la información que más nos interesa es la del DataFrame que creamos en el apartado anterior, \n",
    "# lo cual determinará el tipo de unión."
   ]
  },
  {
   "cell_type": "code",
   "execution_count": null,
   "metadata": {},
   "outputs": [],
   "source": [
    "#EJERCICIO 5: Guardad el dataframe nuevo en un csv que usaremos mañana en la clase de pair programming"
   ]
  }
 ],
 "metadata": {
  "kernelspec": {
   "display_name": "Python 3.10.5 64-bit",
   "language": "python",
   "name": "python3"
  },
  "language_info": {
   "codemirror_mode": {
    "name": "ipython",
    "version": 3
   },
   "file_extension": ".py",
   "mimetype": "text/x-python",
   "name": "python",
   "nbconvert_exporter": "python",
   "pygments_lexer": "ipython3",
   "version": "3.10.5"
  },
  "orig_nbformat": 4,
  "vscode": {
   "interpreter": {
    "hash": "6c417e8ec6dca726918e9382ccd5f9a276f75c00fe45ac2c66804bdd5db60888"
   }
  }
 },
 "nbformat": 4,
 "nbformat_minor": 2
}
